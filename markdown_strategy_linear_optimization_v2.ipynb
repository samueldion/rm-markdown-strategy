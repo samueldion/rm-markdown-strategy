{
  "cells": [
    {
      "cell_type": "code",
      "execution_count": null,
      "metadata": {
        "id": "39IXlvfraFr9",
        "outputId": "4c4ccf37-5920-4bac-ad0c-a85401c74571"
      },
      "outputs": [
        {
          "name": "stdout",
          "output_type": "stream",
          "text": [
            "Collecting gurobipy\n",
            "  Downloading gurobipy-9.5.1-cp39-cp39-win_amd64.whl (8.9 MB)\n",
            "Installing collected packages: gurobipy\n",
            "Successfully installed gurobipy-9.5.1\n"
          ]
        }
      ],
      "source": [
        "!pip install gurobipy"
      ]
    },
    {
      "cell_type": "markdown",
      "metadata": {
        "pycharm": {
          "name": "#%% md\n"
        },
        "id": "sjhAMd32aFsD"
      },
      "source": [
        "# Markdown Game Strategy"
      ]
    },
    {
      "cell_type": "markdown",
      "metadata": {
        "pycharm": {
          "name": "#%% md\n"
        },
        "id": "v3dygaA4aFsG"
      },
      "source": [
        "Finding the optimal strategy for the markdown game"
      ]
    },
    {
      "cell_type": "code",
      "execution_count": 6,
      "metadata": {
        "pycharm": {
          "name": "#%%\n"
        },
        "id": "bMm1VzH1aFsH"
      },
      "outputs": [],
      "source": [
        "# imports\n",
        "import pandas as pd\n",
        "import seaborn as sns\n",
        "import matplotlib.pyplot as plt\n",
        "import numpy as np\n",
        "from scipy import stats\n",
        "sns.set_style(\"whitegrid\")"
      ]
    },
    {
      "cell_type": "markdown",
      "metadata": {
        "pycharm": {
          "name": "#%% md\n"
        },
        "id": "JRZti--6aFsI"
      },
      "source": [
        "## Explore the dataset that is provided to us"
      ]
    },
    {
      "cell_type": "code",
      "execution_count": 7,
      "metadata": {
        "pycharm": {
          "name": "#%%\n"
        },
        "id": "NzioF4nhaFsI"
      },
      "outputs": [],
      "source": [
        "df = pd.read_excel(\"Sales-Data.xlsx\")"
      ]
    },
    {
      "cell_type": "code",
      "execution_count": 8,
      "metadata": {
        "pycharm": {
          "name": "#%%\n"
        },
        "colab": {
          "base_uri": "https://localhost:8080/",
          "height": 206
        },
        "id": "b-4VkAJ0aFsJ",
        "outputId": "d0ff4dd0-af35-4ba2-dbf9-d992b08707d6"
      },
      "outputs": [
        {
          "output_type": "execute_result",
          "data": {
            "text/plain": [
              "   Item  Week  Price  Sales  Remaining Inventory\n",
              "0     1     1     60     57                 1943\n",
              "1     1     2     60     98                 1845\n",
              "2     1     3     60     55                 1790\n",
              "3     1     4     60     41                 1749\n",
              "4     1     5     60     60                 1689"
            ],
            "text/html": [
              "\n",
              "  <div id=\"df-087d4b7c-6d77-4e02-97e7-096f2c90407f\">\n",
              "    <div class=\"colab-df-container\">\n",
              "      <div>\n",
              "<style scoped>\n",
              "    .dataframe tbody tr th:only-of-type {\n",
              "        vertical-align: middle;\n",
              "    }\n",
              "\n",
              "    .dataframe tbody tr th {\n",
              "        vertical-align: top;\n",
              "    }\n",
              "\n",
              "    .dataframe thead th {\n",
              "        text-align: right;\n",
              "    }\n",
              "</style>\n",
              "<table border=\"1\" class=\"dataframe\">\n",
              "  <thead>\n",
              "    <tr style=\"text-align: right;\">\n",
              "      <th></th>\n",
              "      <th>Item</th>\n",
              "      <th>Week</th>\n",
              "      <th>Price</th>\n",
              "      <th>Sales</th>\n",
              "      <th>Remaining Inventory</th>\n",
              "    </tr>\n",
              "  </thead>\n",
              "  <tbody>\n",
              "    <tr>\n",
              "      <th>0</th>\n",
              "      <td>1</td>\n",
              "      <td>1</td>\n",
              "      <td>60</td>\n",
              "      <td>57</td>\n",
              "      <td>1943</td>\n",
              "    </tr>\n",
              "    <tr>\n",
              "      <th>1</th>\n",
              "      <td>1</td>\n",
              "      <td>2</td>\n",
              "      <td>60</td>\n",
              "      <td>98</td>\n",
              "      <td>1845</td>\n",
              "    </tr>\n",
              "    <tr>\n",
              "      <th>2</th>\n",
              "      <td>1</td>\n",
              "      <td>3</td>\n",
              "      <td>60</td>\n",
              "      <td>55</td>\n",
              "      <td>1790</td>\n",
              "    </tr>\n",
              "    <tr>\n",
              "      <th>3</th>\n",
              "      <td>1</td>\n",
              "      <td>4</td>\n",
              "      <td>60</td>\n",
              "      <td>41</td>\n",
              "      <td>1749</td>\n",
              "    </tr>\n",
              "    <tr>\n",
              "      <th>4</th>\n",
              "      <td>1</td>\n",
              "      <td>5</td>\n",
              "      <td>60</td>\n",
              "      <td>60</td>\n",
              "      <td>1689</td>\n",
              "    </tr>\n",
              "  </tbody>\n",
              "</table>\n",
              "</div>\n",
              "      <button class=\"colab-df-convert\" onclick=\"convertToInteractive('df-087d4b7c-6d77-4e02-97e7-096f2c90407f')\"\n",
              "              title=\"Convert this dataframe to an interactive table.\"\n",
              "              style=\"display:none;\">\n",
              "        \n",
              "  <svg xmlns=\"http://www.w3.org/2000/svg\" height=\"24px\"viewBox=\"0 0 24 24\"\n",
              "       width=\"24px\">\n",
              "    <path d=\"M0 0h24v24H0V0z\" fill=\"none\"/>\n",
              "    <path d=\"M18.56 5.44l.94 2.06.94-2.06 2.06-.94-2.06-.94-.94-2.06-.94 2.06-2.06.94zm-11 1L8.5 8.5l.94-2.06 2.06-.94-2.06-.94L8.5 2.5l-.94 2.06-2.06.94zm10 10l.94 2.06.94-2.06 2.06-.94-2.06-.94-.94-2.06-.94 2.06-2.06.94z\"/><path d=\"M17.41 7.96l-1.37-1.37c-.4-.4-.92-.59-1.43-.59-.52 0-1.04.2-1.43.59L10.3 9.45l-7.72 7.72c-.78.78-.78 2.05 0 2.83L4 21.41c.39.39.9.59 1.41.59.51 0 1.02-.2 1.41-.59l7.78-7.78 2.81-2.81c.8-.78.8-2.07 0-2.86zM5.41 20L4 18.59l7.72-7.72 1.47 1.35L5.41 20z\"/>\n",
              "  </svg>\n",
              "      </button>\n",
              "      \n",
              "  <style>\n",
              "    .colab-df-container {\n",
              "      display:flex;\n",
              "      flex-wrap:wrap;\n",
              "      gap: 12px;\n",
              "    }\n",
              "\n",
              "    .colab-df-convert {\n",
              "      background-color: #E8F0FE;\n",
              "      border: none;\n",
              "      border-radius: 50%;\n",
              "      cursor: pointer;\n",
              "      display: none;\n",
              "      fill: #1967D2;\n",
              "      height: 32px;\n",
              "      padding: 0 0 0 0;\n",
              "      width: 32px;\n",
              "    }\n",
              "\n",
              "    .colab-df-convert:hover {\n",
              "      background-color: #E2EBFA;\n",
              "      box-shadow: 0px 1px 2px rgba(60, 64, 67, 0.3), 0px 1px 3px 1px rgba(60, 64, 67, 0.15);\n",
              "      fill: #174EA6;\n",
              "    }\n",
              "\n",
              "    [theme=dark] .colab-df-convert {\n",
              "      background-color: #3B4455;\n",
              "      fill: #D2E3FC;\n",
              "    }\n",
              "\n",
              "    [theme=dark] .colab-df-convert:hover {\n",
              "      background-color: #434B5C;\n",
              "      box-shadow: 0px 1px 3px 1px rgba(0, 0, 0, 0.15);\n",
              "      filter: drop-shadow(0px 1px 2px rgba(0, 0, 0, 0.3));\n",
              "      fill: #FFFFFF;\n",
              "    }\n",
              "  </style>\n",
              "\n",
              "      <script>\n",
              "        const buttonEl =\n",
              "          document.querySelector('#df-087d4b7c-6d77-4e02-97e7-096f2c90407f button.colab-df-convert');\n",
              "        buttonEl.style.display =\n",
              "          google.colab.kernel.accessAllowed ? 'block' : 'none';\n",
              "\n",
              "        async function convertToInteractive(key) {\n",
              "          const element = document.querySelector('#df-087d4b7c-6d77-4e02-97e7-096f2c90407f');\n",
              "          const dataTable =\n",
              "            await google.colab.kernel.invokeFunction('convertToInteractive',\n",
              "                                                     [key], {});\n",
              "          if (!dataTable) return;\n",
              "\n",
              "          const docLinkHtml = 'Like what you see? Visit the ' +\n",
              "            '<a target=\"_blank\" href=https://colab.research.google.com/notebooks/data_table.ipynb>data table notebook</a>'\n",
              "            + ' to learn more about interactive tables.';\n",
              "          element.innerHTML = '';\n",
              "          dataTable['output_type'] = 'display_data';\n",
              "          await google.colab.output.renderOutput(dataTable, element);\n",
              "          const docLink = document.createElement('div');\n",
              "          docLink.innerHTML = docLinkHtml;\n",
              "          element.appendChild(docLink);\n",
              "        }\n",
              "      </script>\n",
              "    </div>\n",
              "  </div>\n",
              "  "
            ]
          },
          "metadata": {},
          "execution_count": 8
        }
      ],
      "source": [
        "df.head()"
      ]
    },
    {
      "cell_type": "markdown",
      "metadata": {
        "pycharm": {
          "name": "#%% md\n"
        },
        "id": "5AlWJvF_aFsK"
      },
      "source": [
        "Number of sales depending on the price"
      ]
    },
    {
      "cell_type": "code",
      "execution_count": 9,
      "metadata": {
        "pycharm": {
          "name": "#%%\n"
        },
        "colab": {
          "base_uri": "https://localhost:8080/",
          "height": 294
        },
        "id": "B47qtUHGaFsL",
        "outputId": "c2c2d314-6125-4df6-b385-1806f2461fae"
      },
      "outputs": [
        {
          "output_type": "display_data",
          "data": {
            "text/plain": [
              "<Figure size 432x288 with 1 Axes>"
            ],
            "image/png": "[encoded data removed]"
          },
          "metadata": {}
        }
      ],
      "source": [
        "sns.boxplot(x=df.Price, y=df.Sales)\n",
        "plt.title(\"Distribution of the sales per price point\")\n",
        "plt.show()"
      ]
    },
    {
      "cell_type": "markdown",
      "metadata": {
        "pycharm": {
          "name": "#%% md\n"
        },
        "id": "X167tBvvaFsM"
      },
      "source": [
        "Same thing but looking at histogram"
      ]
    },
    {
      "cell_type": "code",
      "execution_count": 10,
      "metadata": {
        "pycharm": {
          "name": "#%%\n"
        },
        "colab": {
          "base_uri": "https://localhost:8080/",
          "height": 554
        },
        "id": "6yMD0WbxaFsN",
        "outputId": "58d54b8e-9e85-4389-ce49-f8f612f2cd96"
      },
      "outputs": [
        {
          "output_type": "display_data",
          "data": {
            "text/plain": [
              "<Figure size 720x576 with 4 Axes>"
            ],
            "image/png": "[encoded data removed]"
          },
          "metadata": {}
        }
      ],
      "source": [
        "fig, axes = plt.subplots(2,2, figsize=(10, 8), sharey=True)\n",
        "axes = axes.flatten()\n",
        "fig.suptitle(\"Histogram of different sales per price point\", fontsize=20)\n",
        "i=0\n",
        "for price in [36, 48, 54, 60]:\n",
        "    sns.histplot(ax=axes[i], x=df.loc[df.Price==price].Sales, bins=10, kde=True)\n",
        "    axes[i].set_title(\"Price = $\" + str(price))\n",
        "    i+=1\n",
        "fig.subplots_adjust(hspace=0.3)"
      ]
    },
    {
      "cell_type": "markdown",
      "metadata": {
        "pycharm": {
          "name": "#%% md\n"
        },
        "id": "P9pIDY1ZaFsO"
      },
      "source": [
        "Checking how the week# influences the number of sales"
      ]
    },
    {
      "cell_type": "code",
      "execution_count": 11,
      "metadata": {
        "pycharm": {
          "name": "#%%\n"
        },
        "colab": {
          "base_uri": "https://localhost:8080/",
          "height": 278
        },
        "id": "lgPXRFNhaFsO",
        "outputId": "5a3b797f-34ab-4abe-85dd-6b29344b7c99"
      },
      "outputs": [
        {
          "output_type": "display_data",
          "data": {
            "text/plain": [
              "<Figure size 432x288 with 1 Axes>"
            ],
            "image/png": "[encoded data removed]"
          },
          "metadata": {}
        }
      ],
      "source": [
        "sns.scatterplot(x=df.Week, y=df.Sales, hue=df.Price, palette=\"viridis\")\n",
        "plt.show()"
      ]
    },
    {
      "cell_type": "markdown",
      "metadata": {
        "pycharm": {
          "name": "#%% md\n"
        },
        "id": "b5c--aWBaFsP"
      },
      "source": [
        "How does the first week of sales dictates the other weeks?"
      ]
    },
    {
      "cell_type": "code",
      "execution_count": 12,
      "metadata": {
        "pycharm": {
          "name": "#%%\n"
        },
        "colab": {
          "base_uri": "https://localhost:8080/",
          "height": 206
        },
        "id": "HWoU2fx0aFsP",
        "outputId": "3045cb7b-2c34-454a-8c3d-e112deeaf841"
      },
      "outputs": [
        {
          "output_type": "execute_result",
          "data": {
            "text/plain": [
              "   Item  Week  Price  Sales  Remaining Inventory  first_sale\n",
              "0     1     1     60     57                 1943          57\n",
              "1     1     2     60     98                 1845          57\n",
              "2     1     3     60     55                 1790          57\n",
              "3     1     4     60     41                 1749          57\n",
              "4     1     5     60     60                 1689          57"
            ],
            "text/html": [
              "\n",
              "  <div id=\"df-4cc8d1a0-d7f5-4ad5-a3bf-81e9d66e098a\">\n",
              "    <div class=\"colab-df-container\">\n",
              "      <div>\n",
              "<style scoped>\n",
              "    .dataframe tbody tr th:only-of-type {\n",
              "        vertical-align: middle;\n",
              "    }\n",
              "\n",
              "    .dataframe tbody tr th {\n",
              "        vertical-align: top;\n",
              "    }\n",
              "\n",
              "    .dataframe thead th {\n",
              "        text-align: right;\n",
              "    }\n",
              "</style>\n",
              "<table border=\"1\" class=\"dataframe\">\n",
              "  <thead>\n",
              "    <tr style=\"text-align: right;\">\n",
              "      <th></th>\n",
              "      <th>Item</th>\n",
              "      <th>Week</th>\n",
              "      <th>Price</th>\n",
              "      <th>Sales</th>\n",
              "      <th>Remaining Inventory</th>\n",
              "      <th>first_sale</th>\n",
              "    </tr>\n",
              "  </thead>\n",
              "  <tbody>\n",
              "    <tr>\n",
              "      <th>0</th>\n",
              "      <td>1</td>\n",
              "      <td>1</td>\n",
              "      <td>60</td>\n",
              "      <td>57</td>\n",
              "      <td>1943</td>\n",
              "      <td>57</td>\n",
              "    </tr>\n",
              "    <tr>\n",
              "      <th>1</th>\n",
              "      <td>1</td>\n",
              "      <td>2</td>\n",
              "      <td>60</td>\n",
              "      <td>98</td>\n",
              "      <td>1845</td>\n",
              "      <td>57</td>\n",
              "    </tr>\n",
              "    <tr>\n",
              "      <th>2</th>\n",
              "      <td>1</td>\n",
              "      <td>3</td>\n",
              "      <td>60</td>\n",
              "      <td>55</td>\n",
              "      <td>1790</td>\n",
              "      <td>57</td>\n",
              "    </tr>\n",
              "    <tr>\n",
              "      <th>3</th>\n",
              "      <td>1</td>\n",
              "      <td>4</td>\n",
              "      <td>60</td>\n",
              "      <td>41</td>\n",
              "      <td>1749</td>\n",
              "      <td>57</td>\n",
              "    </tr>\n",
              "    <tr>\n",
              "      <th>4</th>\n",
              "      <td>1</td>\n",
              "      <td>5</td>\n",
              "      <td>60</td>\n",
              "      <td>60</td>\n",
              "      <td>1689</td>\n",
              "      <td>57</td>\n",
              "    </tr>\n",
              "  </tbody>\n",
              "</table>\n",
              "</div>\n",
              "      <button class=\"colab-df-convert\" onclick=\"convertToInteractive('df-4cc8d1a0-d7f5-4ad5-a3bf-81e9d66e098a')\"\n",
              "              title=\"Convert this dataframe to an interactive table.\"\n",
              "              style=\"display:none;\">\n",
              "        \n",
              "  <svg xmlns=\"http://www.w3.org/2000/svg\" height=\"24px\"viewBox=\"0 0 24 24\"\n",
              "       width=\"24px\">\n",
              "    <path d=\"M0 0h24v24H0V0z\" fill=\"none\"/>\n",
              "    <path d=\"M18.56 5.44l.94 2.06.94-2.06 2.06-.94-2.06-.94-.94-2.06-.94 2.06-2.06.94zm-11 1L8.5 8.5l.94-2.06 2.06-.94-2.06-.94L8.5 2.5l-.94 2.06-2.06.94zm10 10l.94 2.06.94-2.06 2.06-.94-2.06-.94-.94-2.06-.94 2.06-2.06.94z\"/><path d=\"M17.41 7.96l-1.37-1.37c-.4-.4-.92-.59-1.43-.59-.52 0-1.04.2-1.43.59L10.3 9.45l-7.72 7.72c-.78.78-.78 2.05 0 2.83L4 21.41c.39.39.9.59 1.41.59.51 0 1.02-.2 1.41-.59l7.78-7.78 2.81-2.81c.8-.78.8-2.07 0-2.86zM5.41 20L4 18.59l7.72-7.72 1.47 1.35L5.41 20z\"/>\n",
              "  </svg>\n",
              "      </button>\n",
              "      \n",
              "  <style>\n",
              "    .colab-df-container {\n",
              "      display:flex;\n",
              "      flex-wrap:wrap;\n",
              "      gap: 12px;\n",
              "    }\n",
              "\n",
              "    .colab-df-convert {\n",
              "      background-color: #E8F0FE;\n",
              "      border: none;\n",
              "      border-radius: 50%;\n",
              "      cursor: pointer;\n",
              "      display: none;\n",
              "      fill: #1967D2;\n",
              "      height: 32px;\n",
              "      padding: 0 0 0 0;\n",
              "      width: 32px;\n",
              "    }\n",
              "\n",
              "    .colab-df-convert:hover {\n",
              "      background-color: #E2EBFA;\n",
              "      box-shadow: 0px 1px 2px rgba(60, 64, 67, 0.3), 0px 1px 3px 1px rgba(60, 64, 67, 0.15);\n",
              "      fill: #174EA6;\n",
              "    }\n",
              "\n",
              "    [theme=dark] .colab-df-convert {\n",
              "      background-color: #3B4455;\n",
              "      fill: #D2E3FC;\n",
              "    }\n",
              "\n",
              "    [theme=dark] .colab-df-convert:hover {\n",
              "      background-color: #434B5C;\n",
              "      box-shadow: 0px 1px 3px 1px rgba(0, 0, 0, 0.15);\n",
              "      filter: drop-shadow(0px 1px 2px rgba(0, 0, 0, 0.3));\n",
              "      fill: #FFFFFF;\n",
              "    }\n",
              "  </style>\n",
              "\n",
              "      <script>\n",
              "        const buttonEl =\n",
              "          document.querySelector('#df-4cc8d1a0-d7f5-4ad5-a3bf-81e9d66e098a button.colab-df-convert');\n",
              "        buttonEl.style.display =\n",
              "          google.colab.kernel.accessAllowed ? 'block' : 'none';\n",
              "\n",
              "        async function convertToInteractive(key) {\n",
              "          const element = document.querySelector('#df-4cc8d1a0-d7f5-4ad5-a3bf-81e9d66e098a');\n",
              "          const dataTable =\n",
              "            await google.colab.kernel.invokeFunction('convertToInteractive',\n",
              "                                                     [key], {});\n",
              "          if (!dataTable) return;\n",
              "\n",
              "          const docLinkHtml = 'Like what you see? Visit the ' +\n",
              "            '<a target=\"_blank\" href=https://colab.research.google.com/notebooks/data_table.ipynb>data table notebook</a>'\n",
              "            + ' to learn more about interactive tables.';\n",
              "          element.innerHTML = '';\n",
              "          dataTable['output_type'] = 'display_data';\n",
              "          await google.colab.output.renderOutput(dataTable, element);\n",
              "          const docLink = document.createElement('div');\n",
              "          docLink.innerHTML = docLinkHtml;\n",
              "          element.appendChild(docLink);\n",
              "        }\n",
              "      </script>\n",
              "    </div>\n",
              "  </div>\n",
              "  "
            ]
          },
          "metadata": {},
          "execution_count": 12
        }
      ],
      "source": [
        "# Add a column first week sale\n",
        "first_sales = list(df.Sales.loc[df.groupby(\"Item\").cumcount().eq(0)])\n",
        "i = list(df.Item.unique())\n",
        "\n",
        "mapping = {i+1: value for i, value in enumerate(first_sales)}\n",
        "df[\"first_sale\"] = df.Item.map(mapping)\n",
        "\n",
        "df.head()"
      ]
    },
    {
      "cell_type": "code",
      "execution_count": 13,
      "metadata": {
        "pycharm": {
          "name": "#%%\n"
        },
        "colab": {
          "base_uri": "https://localhost:8080/",
          "height": 280
        },
        "id": "WyQvlcP1aFsQ",
        "outputId": "6e5fe711-3e6d-4aa7-f139-18b1757043a1"
      },
      "outputs": [
        {
          "output_type": "display_data",
          "data": {
            "text/plain": [
              "<Figure size 432x288 with 1 Axes>"
            ],
            "image/png": "[encoded data removed]"
          },
          "metadata": {}
        }
      ],
      "source": [
        "# Plot the result (only when the price is 60)\n",
        "sns.boxplot(x=df[\"first_sale\"].loc[df.Price==60], y=df.Sales.loc[df.Price==60])\n",
        "plt.show()"
      ]
    },
    {
      "cell_type": "markdown",
      "metadata": {
        "pycharm": {
          "name": "#%% md\n"
        },
        "id": "u9PhQvc3aFsQ"
      },
      "source": [
        "How about the first two sales"
      ]
    },
    {
      "cell_type": "code",
      "execution_count": 14,
      "metadata": {
        "pycharm": {
          "name": "#%%\n"
        },
        "colab": {
          "base_uri": "https://localhost:8080/",
          "height": 206
        },
        "id": "80m0jpGLaFsR",
        "outputId": "50fd267e-d637-4d2c-c278-449c209ea609"
      },
      "outputs": [
        {
          "output_type": "execute_result",
          "data": {
            "text/plain": [
              "   Item  Week  Price  Sales  Remaining Inventory  first_sale  first2_sale\n",
              "0     1     1     60     57                 1943          57          155\n",
              "1     1     2     60     98                 1845          57          155\n",
              "2     1     3     60     55                 1790          57          155\n",
              "3     1     4     60     41                 1749          57          155\n",
              "4     1     5     60     60                 1689          57          155"
            ],
            "text/html": [
              "\n",
              "  <div id=\"df-034bb38d-5fa2-45e7-8a8c-a0cc6a0bb7ea\">\n",
              "    <div class=\"colab-df-container\">\n",
              "      <div>\n",
              "<style scoped>\n",
              "    .dataframe tbody tr th:only-of-type {\n",
              "        vertical-align: middle;\n",
              "    }\n",
              "\n",
              "    .dataframe tbody tr th {\n",
              "        vertical-align: top;\n",
              "    }\n",
              "\n",
              "    .dataframe thead th {\n",
              "        text-align: right;\n",
              "    }\n",
              "</style>\n",
              "<table border=\"1\" class=\"dataframe\">\n",
              "  <thead>\n",
              "    <tr style=\"text-align: right;\">\n",
              "      <th></th>\n",
              "      <th>Item</th>\n",
              "      <th>Week</th>\n",
              "      <th>Price</th>\n",
              "      <th>Sales</th>\n",
              "      <th>Remaining Inventory</th>\n",
              "      <th>first_sale</th>\n",
              "      <th>first2_sale</th>\n",
              "    </tr>\n",
              "  </thead>\n",
              "  <tbody>\n",
              "    <tr>\n",
              "      <th>0</th>\n",
              "      <td>1</td>\n",
              "      <td>1</td>\n",
              "      <td>60</td>\n",
              "      <td>57</td>\n",
              "      <td>1943</td>\n",
              "      <td>57</td>\n",
              "      <td>155</td>\n",
              "    </tr>\n",
              "    <tr>\n",
              "      <th>1</th>\n",
              "      <td>1</td>\n",
              "      <td>2</td>\n",
              "      <td>60</td>\n",
              "      <td>98</td>\n",
              "      <td>1845</td>\n",
              "      <td>57</td>\n",
              "      <td>155</td>\n",
              "    </tr>\n",
              "    <tr>\n",
              "      <th>2</th>\n",
              "      <td>1</td>\n",
              "      <td>3</td>\n",
              "      <td>60</td>\n",
              "      <td>55</td>\n",
              "      <td>1790</td>\n",
              "      <td>57</td>\n",
              "      <td>155</td>\n",
              "    </tr>\n",
              "    <tr>\n",
              "      <th>3</th>\n",
              "      <td>1</td>\n",
              "      <td>4</td>\n",
              "      <td>60</td>\n",
              "      <td>41</td>\n",
              "      <td>1749</td>\n",
              "      <td>57</td>\n",
              "      <td>155</td>\n",
              "    </tr>\n",
              "    <tr>\n",
              "      <th>4</th>\n",
              "      <td>1</td>\n",
              "      <td>5</td>\n",
              "      <td>60</td>\n",
              "      <td>60</td>\n",
              "      <td>1689</td>\n",
              "      <td>57</td>\n",
              "      <td>155</td>\n",
              "    </tr>\n",
              "  </tbody>\n",
              "</table>\n",
              "</div>\n",
              "      <button class=\"colab-df-convert\" onclick=\"convertToInteractive('df-034bb38d-5fa2-45e7-8a8c-a0cc6a0bb7ea')\"\n",
              "              title=\"Convert this dataframe to an interactive table.\"\n",
              "              style=\"display:none;\">\n",
              "        \n",
              "  <svg xmlns=\"http://www.w3.org/2000/svg\" height=\"24px\"viewBox=\"0 0 24 24\"\n",
              "       width=\"24px\">\n",
              "    <path d=\"M0 0h24v24H0V0z\" fill=\"none\"/>\n",
              "    <path d=\"M18.56 5.44l.94 2.06.94-2.06 2.06-.94-2.06-.94-.94-2.06-.94 2.06-2.06.94zm-11 1L8.5 8.5l.94-2.06 2.06-.94-2.06-.94L8.5 2.5l-.94 2.06-2.06.94zm10 10l.94 2.06.94-2.06 2.06-.94-2.06-.94-.94-2.06-.94 2.06-2.06.94z\"/><path d=\"M17.41 7.96l-1.37-1.37c-.4-.4-.92-.59-1.43-.59-.52 0-1.04.2-1.43.59L10.3 9.45l-7.72 7.72c-.78.78-.78 2.05 0 2.83L4 21.41c.39.39.9.59 1.41.59.51 0 1.02-.2 1.41-.59l7.78-7.78 2.81-2.81c.8-.78.8-2.07 0-2.86zM5.41 20L4 18.59l7.72-7.72 1.47 1.35L5.41 20z\"/>\n",
              "  </svg>\n",
              "      </button>\n",
              "      \n",
              "  <style>\n",
              "    .colab-df-container {\n",
              "      display:flex;\n",
              "      flex-wrap:wrap;\n",
              "      gap: 12px;\n",
              "    }\n",
              "\n",
              "    .colab-df-convert {\n",
              "      background-color: #E8F0FE;\n",
              "      border: none;\n",
              "      border-radius: 50%;\n",
              "      cursor: pointer;\n",
              "      display: none;\n",
              "      fill: #1967D2;\n",
              "      height: 32px;\n",
              "      padding: 0 0 0 0;\n",
              "      width: 32px;\n",
              "    }\n",
              "\n",
              "    .colab-df-convert:hover {\n",
              "      background-color: #E2EBFA;\n",
              "      box-shadow: 0px 1px 2px rgba(60, 64, 67, 0.3), 0px 1px 3px 1px rgba(60, 64, 67, 0.15);\n",
              "      fill: #174EA6;\n",
              "    }\n",
              "\n",
              "    [theme=dark] .colab-df-convert {\n",
              "      background-color: #3B4455;\n",
              "      fill: #D2E3FC;\n",
              "    }\n",
              "\n",
              "    [theme=dark] .colab-df-convert:hover {\n",
              "      background-color: #434B5C;\n",
              "      box-shadow: 0px 1px 3px 1px rgba(0, 0, 0, 0.15);\n",
              "      filter: drop-shadow(0px 1px 2px rgba(0, 0, 0, 0.3));\n",
              "      fill: #FFFFFF;\n",
              "    }\n",
              "  </style>\n",
              "\n",
              "      <script>\n",
              "        const buttonEl =\n",
              "          document.querySelector('#df-034bb38d-5fa2-45e7-8a8c-a0cc6a0bb7ea button.colab-df-convert');\n",
              "        buttonEl.style.display =\n",
              "          google.colab.kernel.accessAllowed ? 'block' : 'none';\n",
              "\n",
              "        async function convertToInteractive(key) {\n",
              "          const element = document.querySelector('#df-034bb38d-5fa2-45e7-8a8c-a0cc6a0bb7ea');\n",
              "          const dataTable =\n",
              "            await google.colab.kernel.invokeFunction('convertToInteractive',\n",
              "                                                     [key], {});\n",
              "          if (!dataTable) return;\n",
              "\n",
              "          const docLinkHtml = 'Like what you see? Visit the ' +\n",
              "            '<a target=\"_blank\" href=https://colab.research.google.com/notebooks/data_table.ipynb>data table notebook</a>'\n",
              "            + ' to learn more about interactive tables.';\n",
              "          element.innerHTML = '';\n",
              "          dataTable['output_type'] = 'display_data';\n",
              "          await google.colab.output.renderOutput(dataTable, element);\n",
              "          const docLink = document.createElement('div');\n",
              "          docLink.innerHTML = docLinkHtml;\n",
              "          element.appendChild(docLink);\n",
              "        }\n",
              "      </script>\n",
              "    </div>\n",
              "  </div>\n",
              "  "
            ]
          },
          "metadata": {},
          "execution_count": 14
        }
      ],
      "source": [
        "first2_sales = list(2000-df[\"Remaining Inventory\"].loc[df.groupby(\"Item\").cumcount().eq(1)])\n",
        "i = list(df.Item.unique())\n",
        "\n",
        "\n",
        "mapping = {i+1: value for i, value in enumerate(first2_sales)}\n",
        "df[\"first2_sale\"] = df.Item.map(mapping)\n",
        "\n",
        "df.head()"
      ]
    },
    {
      "cell_type": "code",
      "execution_count": 15,
      "metadata": {
        "pycharm": {
          "name": "#%%\n"
        },
        "colab": {
          "base_uri": "https://localhost:8080/",
          "height": 280
        },
        "id": "5IiBxUuuaFsR",
        "outputId": "6c36965e-563b-44b3-b269-5a9b1f8cbfaa"
      },
      "outputs": [
        {
          "output_type": "display_data",
          "data": {
            "text/plain": [
              "<Figure size 432x288 with 1 Axes>"
            ],
            "image/png": "[encoded data removed]"
          },
          "metadata": {}
        }
      ],
      "source": [
        "# Plot the result (only when the price is 60)\n",
        "sns.boxplot(x=df[\"first2_sale\"].loc[df.Price==60], y=df.Sales.loc[df.Price==60])\n",
        "plt.show()"
      ]
    },
    {
      "cell_type": "markdown",
      "metadata": {
        "pycharm": {
          "name": "#%% md\n"
        },
        "id": "vbPc8L7UaFsS"
      },
      "source": [
        "There might be some correlation using the first weeks of sales but unclear with the number of data points that we have.  We can see that when the Total Sales after two weeks are above 160, there seems to be some correlation that indicates the median sale will be much higher than for the other."
      ]
    },
    {
      "cell_type": "markdown",
      "metadata": {
        "pycharm": {
          "name": "#%% md\n"
        },
        "id": "xw0mDwZ2aFsS"
      },
      "source": [
        "## Calculating correlations\n",
        "using linear regression models"
      ]
    },
    {
      "cell_type": "markdown",
      "metadata": {
        "pycharm": {
          "name": "#%% md\n"
        },
        "id": "em4LsYgPaFsT"
      },
      "source": [
        "### Linear model with sales over price"
      ]
    },
    {
      "cell_type": "code",
      "execution_count": 16,
      "metadata": {
        "pycharm": {
          "name": "#%%\n"
        },
        "colab": {
          "base_uri": "https://localhost:8080/"
        },
        "id": "E3MQP8PcaFsT",
        "outputId": "0c28de65-34ea-4b82-b432-c3f4c160187b"
      },
      "outputs": [
        {
          "output_type": "stream",
          "name": "stderr",
          "text": [
            "/usr/local/lib/python3.7/dist-packages/statsmodels/tools/_testing.py:19: FutureWarning: pandas.util.testing is deprecated. Use the functions in the public API at pandas.testing instead.\n",
            "  import pandas.util.testing as tm\n"
          ]
        },
        {
          "output_type": "stream",
          "name": "stdout",
          "text": [
            "                            OLS Regression Results                            \n",
            "==============================================================================\n",
            "Dep. Variable:                  Sales   R-squared:                       0.366\n",
            "Model:                            OLS   Adj. R-squared:                  0.363\n",
            "Method:                 Least Squares   F-statistic:                     128.6\n",
            "Date:                Mon, 09 May 2022   Prob (F-statistic):           7.74e-24\n",
            "Time:                        01:22:30   Log-Likelihood:                -1186.1\n",
            "No. Observations:                 225   AIC:                             2376.\n",
            "Df Residuals:                     223   BIC:                             2383.\n",
            "Df Model:                           1                                         \n",
            "Covariance Type:            nonrobust                                         \n",
            "==============================================================================\n",
            "                 coef    std err          t      P>|t|      [0.025      0.975]\n",
            "------------------------------------------------------------------------------\n",
            "Intercept    334.9640     20.863     16.055      0.000     293.850     376.078\n",
            "Price         -4.3748      0.386    -11.342      0.000      -5.135      -3.615\n",
            "==============================================================================\n",
            "Omnibus:                       36.668   Durbin-Watson:                   1.419\n",
            "Prob(Omnibus):                  0.000   Jarque-Bera (JB):              140.316\n",
            "Skew:                           0.567   Prob(JB):                     3.40e-31\n",
            "Kurtosis:                       6.699   Cond. No.                         358.\n",
            "==============================================================================\n",
            "\n",
            "Warnings:\n",
            "[1] Standard Errors assume that the covariance matrix of the errors is correctly specified.\n"
          ]
        }
      ],
      "source": [
        "import statsmodels.formula.api as smf\n",
        "lm1 = smf.ols(data=df, formula=\"Sales ~ Price\").fit()\n",
        "print(lm1.summary())"
      ]
    },
    {
      "cell_type": "markdown",
      "metadata": {
        "pycharm": {
          "name": "#%% md\n"
        },
        "id": "3LQmL5lOaFsU"
      },
      "source": [
        "### With price and week"
      ]
    },
    {
      "cell_type": "code",
      "execution_count": 17,
      "metadata": {
        "pycharm": {
          "name": "#%%\n"
        },
        "colab": {
          "base_uri": "https://localhost:8080/"
        },
        "id": "01ztpEeAaFsU",
        "outputId": "1e37d531-c1ad-4bb2-9f4f-86eb68a8dd5d"
      },
      "outputs": [
        {
          "output_type": "stream",
          "name": "stdout",
          "text": [
            "                            OLS Regression Results                            \n",
            "==============================================================================\n",
            "Dep. Variable:                  Sales   R-squared:                       0.374\n",
            "Model:                            OLS   Adj. R-squared:                  0.369\n",
            "Method:                 Least Squares   F-statistic:                     66.36\n",
            "Date:                Mon, 09 May 2022   Prob (F-statistic):           2.56e-23\n",
            "Time:                        01:22:30   Log-Likelihood:                -1184.6\n",
            "No. Observations:                 225   AIC:                             2375.\n",
            "Df Residuals:                     222   BIC:                             2385.\n",
            "Df Model:                           2                                         \n",
            "Covariance Type:            nonrobust                                         \n",
            "==============================================================================\n",
            "                 coef    std err          t      P>|t|      [0.025      0.975]\n",
            "------------------------------------------------------------------------------\n",
            "Intercept    386.0742     36.266     10.646      0.000     314.605     457.544\n",
            "Price         -5.0610      0.554     -9.138      0.000      -6.152      -3.969\n",
            "Week          -1.8029      1.049     -1.719      0.087      -3.870       0.264\n",
            "==============================================================================\n",
            "Omnibus:                       34.639   Durbin-Watson:                   1.427\n",
            "Prob(Omnibus):                  0.000   Jarque-Bera (JB):              122.216\n",
            "Skew:                           0.555   Prob(JB):                     2.89e-27\n",
            "Kurtosis:                       6.436   Cond. No.                         631.\n",
            "==============================================================================\n",
            "\n",
            "Warnings:\n",
            "[1] Standard Errors assume that the covariance matrix of the errors is correctly specified.\n"
          ]
        }
      ],
      "source": [
        "lm2 = smf.ols(data=df, formula=\"Sales ~ Price+Week\").fit()\n",
        "print(lm2.summary())"
      ]
    },
    {
      "cell_type": "code",
      "execution_count": 18,
      "metadata": {
        "pycharm": {
          "name": "#%%\n"
        },
        "colab": {
          "base_uri": "https://localhost:8080/"
        },
        "id": "O89dGcmkaFsU",
        "outputId": "6d02f5d0-8a2b-4bdf-fa3f-0daa271add3b"
      },
      "outputs": [
        {
          "output_type": "stream",
          "name": "stdout",
          "text": [
            "                            OLS Regression Results                            \n",
            "==============================================================================\n",
            "Dep. Variable:                  Sales   R-squared:                       0.390\n",
            "Model:                            OLS   Adj. R-squared:                  0.382\n",
            "Method:                 Least Squares   F-statistic:                     47.16\n",
            "Date:                Mon, 09 May 2022   Prob (F-statistic):           1.35e-23\n",
            "Time:                        01:22:30   Log-Likelihood:                -1181.7\n",
            "No. Observations:                 225   AIC:                             2371.\n",
            "Df Residuals:                     221   BIC:                             2385.\n",
            "Df Model:                           3                                         \n",
            "Covariance Type:            nonrobust                                         \n",
            "==============================================================================\n",
            "                 coef    std err          t      P>|t|      [0.025      0.975]\n",
            "------------------------------------------------------------------------------\n",
            "Intercept    643.7429    112.455      5.724      0.000     422.122     865.363\n",
            "Price         -9.4510      1.897     -4.983      0.000     -13.189      -5.713\n",
            "Week         -23.8619      9.183     -2.599      0.010     -41.959      -5.765\n",
            "Price:Week     0.3816      0.158      2.418      0.016       0.071       0.693\n",
            "==============================================================================\n",
            "Omnibus:                       27.942   Durbin-Watson:                   1.455\n",
            "Prob(Omnibus):                  0.000   Jarque-Bera (JB):               66.579\n",
            "Skew:                           0.558   Prob(JB):                     3.49e-15\n",
            "Kurtosis:                       5.420   Cond. No.                     1.63e+04\n",
            "==============================================================================\n",
            "\n",
            "Warnings:\n",
            "[1] Standard Errors assume that the covariance matrix of the errors is correctly specified.\n",
            "[2] The condition number is large, 1.63e+04. This might indicate that there are\n",
            "strong multicollinearity or other numerical problems.\n"
          ]
        }
      ],
      "source": [
        "import statsmodels.formula.api as smf\n",
        "lm2 = smf.ols(data=df, formula = \"Sales ~ Price * Week\").fit()\n",
        "print(lm2.summary())"
      ]
    },
    {
      "cell_type": "markdown",
      "metadata": {
        "pycharm": {
          "name": "#%% md\n"
        },
        "id": "vju0_bZ3aFsV"
      },
      "source": [
        "The third regression gives the best results."
      ]
    },
    {
      "cell_type": "code",
      "execution_count": 19,
      "metadata": {
        "pycharm": {
          "name": "#%%\n"
        },
        "colab": {
          "base_uri": "https://localhost:8080/"
        },
        "id": "2h6P_DMnaFsV",
        "outputId": "1fb858fc-57b5-49e6-9dc1-7120fc375070"
      },
      "outputs": [
        {
          "output_type": "execute_result",
          "data": {
            "text/plain": [
              "Intercept     643.742885\n",
              "Price          -9.450952\n",
              "Week          -23.861872\n",
              "Price:Week      0.381639\n",
              "dtype: float64"
            ]
          },
          "metadata": {},
          "execution_count": 19
        }
      ],
      "source": [
        "# Get the coefficients\n",
        "lm2.params"
      ]
    },
    {
      "cell_type": "markdown",
      "metadata": {
        "pycharm": {
          "name": "#%% md\n"
        },
        "id": "CGkXnKH2aFsW"
      },
      "source": [
        "## Static Markdown Optimization\n",
        "We optimize the problem in advance, not requiring to update based on the results we are seeing.\n",
        "This is an approach that requires less computing power and can serve as a baseline for comparison for dynamic approaches.\n",
        "\n",
        "Here, we want to optimize the total revenues"
      ]
    },
    {
      "cell_type": "markdown",
      "metadata": {
        "pycharm": {
          "name": "#%% md\n"
        },
        "id": "LSuSZyTfaFsW"
      },
      "source": [
        "Start by creating 4 revenue formulas based on the 4 price points.\n",
        "Y is the revenues generated at each price point and week#"
      ]
    },
    {
      "cell_type": "code",
      "execution_count": 20,
      "metadata": {
        "pycharm": {
          "name": "#%%\n"
        },
        "colab": {
          "base_uri": "https://localhost:8080/"
        },
        "id": "nnGEhfsqaFsX",
        "outputId": "104dad72-2066-440b-d0eb-3712dadf5337"
      },
      "outputs": [
        {
          "output_type": "stream",
          "name": "stdout",
          "text": [
            "[ 6.43742885e+02 -9.45095190e+00 -2.38618716e+01  3.81639277e-01]\n"
          ]
        }
      ],
      "source": [
        "y = np.zeros((4,4))\n",
        "p = list(df.Price.unique())\n",
        "y= np.array(lm2.params)\n",
        "print(y)"
      ]
    },
    {
      "cell_type": "code",
      "execution_count": 21,
      "metadata": {
        "colab": {
          "base_uri": "https://localhost:8080/"
        },
        "id": "78jT112saFsX",
        "outputId": "9106956f-b36b-4a67-d2f5-4348f7526fa0"
      },
      "outputs": [
        {
          "output_type": "stream",
          "name": "stdout",
          "text": [
            "Requirement already satisfied: gurobipy in /usr/local/lib/python3.7/dist-packages (9.5.1)\n"
          ]
        }
      ],
      "source": [
        "!pip install gurobipy"
      ]
    },
    {
      "cell_type": "code",
      "execution_count": 22,
      "metadata": {
        "pycharm": {
          "name": "#%%\n"
        },
        "id": "mS6jOXAOaFsX"
      },
      "outputs": [],
      "source": [
        "import gurobipy as gp\n",
        "from gurobipy import GRB"
      ]
    },
    {
      "cell_type": "code",
      "execution_count": 114,
      "metadata": {
        "pycharm": {
          "name": "#%%\n"
        },
        "id": "PbwmFz5AaFsY"
      },
      "outputs": [],
      "source": [
        "model = gp.Model(\"linear_model\")"
      ]
    },
    {
      "cell_type": "code",
      "execution_count": 115,
      "metadata": {
        "pycharm": {
          "name": "#%%\n"
        },
        "id": "QCKS_oOcaFsY"
      },
      "outputs": [],
      "source": [
        "# Decision variable\n",
        "n_weeks = 15\n",
        "# i price point and j weeks\n",
        "X = model.addVars(4,n_weeks, vtype=GRB.BINARY, name=\"X\")\n",
        "S = model.addVar(1, name=\"Sales\")"
      ]
    },
    {
      "cell_type": "code",
      "execution_count": 116,
      "metadata": {
        "pycharm": {
          "name": "#%%\n"
        },
        "id": "0mne8M-OaFsY"
      },
      "outputs": [],
      "source": [
        "week = list(range(1,16))\n",
        "sales = gp.quicksum(\n",
        "    X[i,j]*(y[0] + y[1]*p[i] + (y[2]+y[3]*p[i])*week[j]) for i in range(4) for j in range(n_weeks)  # using the linear regression results\n",
        ")\n",
        "revenue = gp.quicksum(\n",
        "    p[i]*X[i,j]*(y[0] + y[1]*p[i] + (y[2]+y[3]*p[i])*week[j]) for i in range(4) for j in range(n_weeks)  # using the linear regression results\n",
        ")\n",
        "\n",
        "model.setObjective(revenue, sense=GRB.MAXIMIZE)"
      ]
    },
    {
      "cell_type": "code",
      "execution_count": 117,
      "metadata": {
        "pycharm": {
          "name": "#%%\n"
        },
        "id": "IvDn3lHZaFsZ"
      },
      "outputs": [],
      "source": [
        "# Constraints\n",
        "# 1 week selected\n",
        "model.addConstrs((gp.quicksum(X[i,j] for i in range(4)) <= 1 for j in range(15)), name=\"PriceStratEachWeek\")\n",
        "\n",
        "# Maximum sales of 2000\n",
        "model.addConstr(S == sales)\n",
        "model.addConstr(0<=2000-sales, name=\"MaxSales\")\n",
        "\n",
        "# First week is full price\n",
        "model.addConstr(X[0,0] == 1, name=\"FirstWeekFullPrice\")\n",
        "\n",
        "# Sub-sequent weeks cannot have price (based on index) lower than the current one\n",
        "for j in range(1, n_weeks):\n",
        "  for i in range(1, 4):\n",
        "    model.addConstr(X[i-1, j-1] <= (gp.quicksum(X[k, j] for k in range(i-1, 4))), name=f\"SubsequentPriceConstraint_i_j\")"
      ]
    },
    {
      "cell_type": "code",
      "execution_count": 118,
      "metadata": {
        "pycharm": {
          "name": "#%%\n"
        },
        "colab": {
          "base_uri": "https://localhost:8080/"
        },
        "id": "ezP3mLs2aFsZ",
        "outputId": "d347693b-1181-4c18-d2a6-85e56610836d"
      },
      "outputs": [
        {
          "output_type": "stream",
          "name": "stdout",
          "text": [
            "Gurobi Optimizer version 9.5.1 build v9.5.1rc2 (linux64)\n",
            "Thread count: 1 physical cores, 2 logical processors, using up to 2 threads\n",
            "Optimize a model with 60 rows, 61 columns and 350 nonzeros\n",
            "Model fingerprint: 0x2634760e\n",
            "Variable types: 1 continuous, 60 integer (60 binary)\n",
            "Coefficient statistics:\n",
            "  Matrix range     [1e+00, 3e+02]\n",
            "  Objective range  [4e+03, 1e+04]\n",
            "  Bounds range     [1e+00, 1e+00]\n",
            "  RHS range        [1e+00, 2e+03]\n",
            "Presolve removed 6 rows and 5 columns\n",
            "Presolve time: 0.00s\n",
            "Presolved: 54 rows, 56 columns, 267 nonzeros\n",
            "Variable types: 0 continuous, 56 integer (56 binary)\n",
            "Found heuristic solution: objective 96518.974965\n",
            "\n",
            "Root relaxation: objective 9.822794e+04, 29 iterations, 0.00 seconds (0.00 work units)\n",
            "\n",
            "    Nodes    |    Current Node    |     Objective Bounds      |     Work\n",
            " Expl Unexpl |  Obj  Depth IntInf | Incumbent    BestBd   Gap | It/Node Time\n",
            "\n",
            "     0     0 98227.9405    0   28 96518.9750 98227.9405  1.77%     -    0s\n",
            "     0     0 97919.2944    0   25 96518.9750 97919.2944  1.45%     -    0s\n",
            "H    0     0                    97234.879454 97919.2944  0.70%     -    0s\n",
            "     0     0 97757.8076    0   12 97234.8795 97757.8076  0.54%     -    0s\n",
            "     0     0 97750.7665    0   14 97234.8795 97750.7665  0.53%     -    0s\n",
            "     0     0 97706.5363    0   19 97234.8795 97706.5363  0.49%     -    0s\n",
            "     0     0 97703.0131    0   20 97234.8795 97703.0131  0.48%     -    0s\n",
            "     0     0 97701.1983    0   20 97234.8795 97701.1983  0.48%     -    0s\n",
            "     0     0 97614.2392    0   28 97234.8795 97614.2392  0.39%     -    0s\n",
            "     0     0 97585.1280    0   31 97234.8795 97585.1280  0.36%     -    0s\n",
            "     0     0 97574.4028    0   32 97234.8795 97574.4028  0.35%     -    0s\n",
            "     0     0 97529.8948    0   16 97234.8795 97529.8948  0.30%     -    0s\n",
            "     0     0 97526.9010    0   15 97234.8795 97526.9010  0.30%     -    0s\n",
            "     0     0 97526.2225    0   14 97234.8795 97526.2225  0.30%     -    0s\n",
            "     0     0 97526.2225    0   14 97234.8795 97526.2225  0.30%     -    0s\n",
            "     0     0 97526.2225    0    1 97234.8795 97526.2225  0.30%     -    0s\n",
            "     0     0     cutoff    0      97234.8795 97234.8795  0.00%     -    0s\n",
            "\n",
            "Cutting planes:\n",
            "  MIR: 1\n",
            "  GUB cover: 1\n",
            "  RLT: 1\n",
            "\n",
            "Explored 1 nodes (101 simplex iterations) in 0.14 seconds (0.01 work units)\n",
            "Thread count was 2 (of 2 available processors)\n",
            "\n",
            "Solution count 2: 97234.9 96519 \n",
            "\n",
            "Optimal solution found (tolerance 1.00e-04)\n",
            "Best objective 9.723487945444e+04, best bound 9.723487945444e+04, gap 0.0000%\n"
          ]
        }
      ],
      "source": [
        "model.optimize()"
      ]
    },
    {
      "cell_type": "code",
      "source": [
        "print(f\"Average Revenue to be Expected = {model.objVal}\")\n",
        "res=[]\n",
        "for v in model.getVars():\n",
        "    if v.x>0:\n",
        "        res.append(v.varName+ \" = \" + str(v.x))\n",
        "for i in sorted(res):\n",
        "  print(i)"
      ],
      "metadata": {
        "colab": {
          "base_uri": "https://localhost:8080/"
        },
        "id": "0s0jxGRNciHe",
        "outputId": "a575f622-13c2-4e76-e208-d40d3bb13283"
      },
      "execution_count": 119,
      "outputs": [
        {
          "output_type": "stream",
          "name": "stdout",
          "text": [
            "Average Revenue to be Expected = 97234.8794544416\n",
            "Sales = 1975.4815646603392\n",
            "X[0,0] = 1.0\n",
            "X[1,1] = 1.0\n",
            "X[1,2] = 1.0\n",
            "X[2,10] = 1.0\n",
            "X[2,11] = 1.0\n",
            "X[2,12] = 1.0\n",
            "X[2,13] = 1.0\n",
            "X[2,14] = 1.0\n",
            "X[2,3] = 1.0\n",
            "X[2,4] = 1.0\n",
            "X[2,5] = 1.0\n",
            "X[2,6] = 1.0\n",
            "X[2,7] = 1.0\n",
            "X[2,8] = 1.0\n",
            "X[2,9] = 1.0\n"
          ]
        }
      ]
    },
    {
      "cell_type": "code",
      "source": [
        "print(f\"Average Revenue to be Expected = {model.objVal}\\n\")\n",
        "res={}\n",
        "i=0\n",
        "for v in model.getVars():\n",
        "    if v.x==1:\n",
        "        res[int(v.varName[2:-1].split(',')[-1])] = f\"\"\"Price: {p[int(v.varName[2:-1].split(',')[0])]}\"\"\"\n",
        "        i+=1\n",
        "res"
      ],
      "metadata": {
        "colab": {
          "base_uri": "https://localhost:8080/"
        },
        "id": "ekDXTqaxez4w",
        "outputId": "9468c7ef-8cb1-4a4a-cf15-2892f09899cd"
      },
      "execution_count": 120,
      "outputs": [
        {
          "output_type": "stream",
          "name": "stdout",
          "text": [
            "Average Revenue to be Expected = 97234.8794544416\n",
            "\n"
          ]
        },
        {
          "output_type": "execute_result",
          "data": {
            "text/plain": [
              "{0: 'Price: 60',\n",
              " 1: 'Price: 54',\n",
              " 2: 'Price: 54',\n",
              " 3: 'Price: 48',\n",
              " 4: 'Price: 48',\n",
              " 5: 'Price: 48',\n",
              " 6: 'Price: 48',\n",
              " 7: 'Price: 48',\n",
              " 8: 'Price: 48',\n",
              " 9: 'Price: 48',\n",
              " 10: 'Price: 48',\n",
              " 11: 'Price: 48',\n",
              " 12: 'Price: 48',\n",
              " 13: 'Price: 48',\n",
              " 14: 'Price: 48'}"
            ]
          },
          "metadata": {},
          "execution_count": 120
        }
      ]
    },
    {
      "cell_type": "code",
      "execution_count": 97,
      "metadata": {
        "pycharm": {
          "name": "#%%\n"
        },
        "colab": {
          "base_uri": "https://localhost:8080/"
        },
        "id": "yVkDr5zdaFsZ",
        "outputId": "8320493e-3f48-4f7c-f158-9f5add8c9db8"
      },
      "outputs": [
        {
          "output_type": "stream",
          "name": "stdout",
          "text": [
            "Average Revenue to be Expected = 98477.07449487424\n",
            "\n",
            "X[0,0] = 1.0\n",
            "Sales = 75.72225635006771\n",
            "X[0,0] = 1.0\n",
            "X[1,11] = 1.0\n",
            "X[1,12] = 1.0\n",
            "X[1,14] = 1.0\n",
            "X[2,1] = 1.0\n",
            "X[2,2] = 1.0\n",
            "X[2,3] = 1.0\n",
            "X[2,4] = 1.0\n",
            "X[2,5] = 1.0\n",
            "X[2,6] = 1.0\n",
            "X[2,7] = 1.0\n",
            "X[2,8] = 1.0\n",
            "X[2,9] = 1.0\n",
            "X[2,10] = 1.0\n",
            "X[2,13] = 1.0\n",
            "Sales = 1998.9201015131844\n"
          ]
        }
      ],
      "source": [
        "print(f\"Average Revenue to be Expected = {model.objVal}\\n\")\n",
        "\n",
        "for v in model.getVars():\n",
        "    if v.x>0:\n",
        "        print(v.varName, \"=\", v.x)"
      ]
    },
    {
      "cell_type": "code",
      "execution_count": 96,
      "metadata": {
        "pycharm": {
          "name": "#%%\n"
        },
        "colab": {
          "base_uri": "https://localhost:8080/"
        },
        "id": "YcejjjSiaFsZ",
        "outputId": "30409386-2479-4bef-9ba9-9e316739f239"
      },
      "outputs": [
        {
          "output_type": "execute_result",
          "data": {
            "text/plain": [
              "[60, 54, 48, 36]"
            ]
          },
          "metadata": {},
          "execution_count": 96
        }
      ],
      "source": [
        "p"
      ]
    },
    {
      "cell_type": "code",
      "source": [
        ""
      ],
      "metadata": {
        "id": "dPKTEdcGg5VE"
      },
      "execution_count": null,
      "outputs": []
    }
  ],
  "metadata": {
    "kernelspec": {
      "display_name": "Python 3 (ipykernel)",
      "language": "python",
      "name": "python3"
    },
    "language_info": {
      "codemirror_mode": {
        "name": "ipython",
        "version": 3
      },
      "file_extension": ".py",
      "mimetype": "text/x-python",
      "name": "python",
      "nbconvert_exporter": "python",
      "pygments_lexer": "ipython3",
      "version": "3.9.7"
    },
    "toc": {
      "base_numbering": 1,
      "nav_menu": {},
      "number_sections": true,
      "sideBar": true,
      "skip_h1_title": false,
      "title_cell": "Table of Contents",
      "title_sidebar": "Contents",
      "toc_cell": false,
      "toc_position": {},
      "toc_section_display": true,
      "toc_window_display": false
    },
    "colab": {
      "name": "markdown-strategy-linear-optimization_v2.ipynb",
      "provenance": [],
      "collapsed_sections": []
    }
  },
  "nbformat": 4,
  "nbformat_minor": 0
}