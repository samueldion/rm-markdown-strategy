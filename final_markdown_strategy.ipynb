{
 "cells": [
  {
   "cell_type": "code",
   "execution_count": null,
   "metadata": {
    "colab": {
     "base_uri": "https://localhost:8080/"
    },
    "id": "39IXlvfraFr9",
    "outputId": "289f2aed-e7b7-4441-b869-f9c4c2cc47b1"
   },
   "outputs": [],
   "source": [
    "!pip install gurobipy"
   ]
  },
  {
   "cell_type": "markdown",
   "metadata": {
    "id": "sjhAMd32aFsD",
    "pycharm": {
     "name": "#%% md\n"
    }
   },
   "source": [
    "# Markdown Game Strategy"
   ]
  },
  {
   "cell_type": "markdown",
   "metadata": {
    "id": "v3dygaA4aFsG",
    "pycharm": {
     "name": "#%% md\n"
    }
   },
   "source": [
    "Finding the optimal strategy for the markdown game"
   ]
  },
  {
   "cell_type": "code",
   "execution_count": 162,
   "metadata": {
    "id": "bMm1VzH1aFsH",
    "pycharm": {
     "name": "#%%\n"
    }
   },
   "outputs": [],
   "source": [
    "# imports\n",
    "import pandas as pd\n",
    "import seaborn as sns\n",
    "import matplotlib.pyplot as plt\n",
    "from re import sub\n",
    "import numpy as np\n",
    "from scipy import stats\n",
    "sns.set_style(\"whitegrid\")"
   ]
  },
  {
   "cell_type": "markdown",
   "metadata": {
    "id": "JRZti--6aFsI",
    "pycharm": {
     "name": "#%% md\n"
    }
   },
   "source": [
    "## Explore the dataset that is provided to us"
   ]
  },
  {
   "cell_type": "code",
   "execution_count": 163,
   "metadata": {
    "id": "NzioF4nhaFsI",
    "pycharm": {
     "name": "#%%\n"
    }
   },
   "outputs": [],
   "source": [
    "df = pd.read_excel(\"Sales-Data.xlsx\")"
   ]
  },
  {
   "cell_type": "code",
   "execution_count": 164,
   "metadata": {
    "colab": {
     "base_uri": "https://localhost:8080/",
     "height": 206
    },
    "id": "b-4VkAJ0aFsJ",
    "outputId": "28d64312-4dce-495b-9ccd-c43926b2c68d",
    "pycharm": {
     "name": "#%%\n"
    }
   },
   "outputs": [
    {
     "data": {
      "text/html": [
       "<div>\n",
       "<style scoped>\n",
       "    .dataframe tbody tr th:only-of-type {\n",
       "        vertical-align: middle;\n",
       "    }\n",
       "\n",
       "    .dataframe tbody tr th {\n",
       "        vertical-align: top;\n",
       "    }\n",
       "\n",
       "    .dataframe thead th {\n",
       "        text-align: right;\n",
       "    }\n",
       "</style>\n",
       "<table border=\"1\" class=\"dataframe\">\n",
       "  <thead>\n",
       "    <tr style=\"text-align: right;\">\n",
       "      <th></th>\n",
       "      <th>Item</th>\n",
       "      <th>Week</th>\n",
       "      <th>Price</th>\n",
       "      <th>Sales</th>\n",
       "      <th>Remaining Inventory</th>\n",
       "    </tr>\n",
       "  </thead>\n",
       "  <tbody>\n",
       "    <tr>\n",
       "      <th>0</th>\n",
       "      <td>1</td>\n",
       "      <td>1</td>\n",
       "      <td>60</td>\n",
       "      <td>57</td>\n",
       "      <td>1943</td>\n",
       "    </tr>\n",
       "    <tr>\n",
       "      <th>1</th>\n",
       "      <td>1</td>\n",
       "      <td>2</td>\n",
       "      <td>60</td>\n",
       "      <td>98</td>\n",
       "      <td>1845</td>\n",
       "    </tr>\n",
       "    <tr>\n",
       "      <th>2</th>\n",
       "      <td>1</td>\n",
       "      <td>3</td>\n",
       "      <td>60</td>\n",
       "      <td>55</td>\n",
       "      <td>1790</td>\n",
       "    </tr>\n",
       "    <tr>\n",
       "      <th>3</th>\n",
       "      <td>1</td>\n",
       "      <td>4</td>\n",
       "      <td>60</td>\n",
       "      <td>41</td>\n",
       "      <td>1749</td>\n",
       "    </tr>\n",
       "    <tr>\n",
       "      <th>4</th>\n",
       "      <td>1</td>\n",
       "      <td>5</td>\n",
       "      <td>60</td>\n",
       "      <td>60</td>\n",
       "      <td>1689</td>\n",
       "    </tr>\n",
       "  </tbody>\n",
       "</table>\n",
       "</div>"
      ],
      "text/plain": [
       "   Item  Week  Price  Sales  Remaining Inventory\n",
       "0     1     1     60     57                 1943\n",
       "1     1     2     60     98                 1845\n",
       "2     1     3     60     55                 1790\n",
       "3     1     4     60     41                 1749\n",
       "4     1     5     60     60                 1689"
      ]
     },
     "execution_count": 164,
     "metadata": {},
     "output_type": "execute_result"
    }
   ],
   "source": [
    "df.head()"
   ]
  },
  {
   "cell_type": "markdown",
   "metadata": {
    "id": "5AlWJvF_aFsK",
    "pycharm": {
     "name": "#%% md\n"
    }
   },
   "source": [
    "Number of sales depending on the price"
   ]
  },
  {
   "cell_type": "code",
   "execution_count": 165,
   "metadata": {
    "colab": {
     "base_uri": "https://localhost:8080/",
     "height": 295
    },
    "id": "B47qtUHGaFsL",
    "outputId": "937d5a8b-0b89-4e7b-c519-3b0626d50641",
    "pycharm": {
     "name": "#%%\n"
    }
   },
   "outputs": [
    {
     "data": {
      "image/png": "[encoded data removed]",
      "text/plain": [
       "<Figure size 432x288 with 1 Axes>"
      ]
     },
     "metadata": {},
     "output_type": "display_data"
    }
   ],
   "source": [
    "sns.boxplot(x=df.Price, y=df.Sales)\n",
    "plt.title(\"Distribution of the sales per price point\")\n",
    "plt.show()"
   ]
  },
  {
   "cell_type": "markdown",
   "metadata": {
    "id": "X167tBvvaFsM",
    "pycharm": {
     "name": "#%% md\n"
    }
   },
   "source": [
    "Same thing but looking at histogram"
   ]
  },
  {
   "cell_type": "code",
   "execution_count": 166,
   "metadata": {
    "colab": {
     "base_uri": "https://localhost:8080/",
     "height": 553
    },
    "id": "6yMD0WbxaFsN",
    "outputId": "84fb7640-4f6a-41ad-994e-9d8c14c519e3",
    "pycharm": {
     "name": "#%%\n"
    }
   },
   "outputs": [
    {
     "data": {
      "image/png": "[encoded data removed]",
      "text/plain": [
       "<Figure size 720x576 with 4 Axes>"
      ]
     },
     "metadata": {},
     "output_type": "display_data"
    }
   ],
   "source": [
    "fig, axes = plt.subplots(2,2, figsize=(10, 8), sharey=True)\n",
    "axes = axes.flatten()\n",
    "fig.suptitle(\"Histogram of different sales per price point\", fontsize=20)\n",
    "i=0\n",
    "for price in [36, 48, 54, 60]:\n",
    "    sns.histplot(ax=axes[i], x=df.loc[df.Price==price].Sales, bins=10, kde=True)\n",
    "    axes[i].set_title(\"Price = $\" + str(price))\n",
    "    i+=1\n",
    "fig.subplots_adjust(hspace=0.3)"
   ]
  },
  {
   "cell_type": "markdown",
   "metadata": {
    "id": "P9pIDY1ZaFsO",
    "pycharm": {
     "name": "#%% md\n"
    }
   },
   "source": [
    "Checking how the week# influences the number of sales"
   ]
  },
  {
   "cell_type": "code",
   "execution_count": 167,
   "metadata": {
    "colab": {
     "base_uri": "https://localhost:8080/",
     "height": 278
    },
    "id": "lgPXRFNhaFsO",
    "outputId": "233697e0-12c3-43a2-d815-52fc973ab76a",
    "pycharm": {
     "name": "#%%\n"
    }
   },
   "outputs": [
    {
     "data": {
      "image/png": "[encoded data removed]",
      "text/plain": [
       "<Figure size 432x288 with 1 Axes>"
      ]
     },
     "metadata": {},
     "output_type": "display_data"
    }
   ],
   "source": [
    "sns.scatterplot(x=df.Week, y=df.Sales, hue=df.Price, palette=\"viridis\")\n",
    "plt.show()"
   ]
  },
  {
   "cell_type": "markdown",
   "metadata": {
    "id": "b5c--aWBaFsP",
    "pycharm": {
     "name": "#%% md\n"
    }
   },
   "source": [
    "How does the first week of sales dictates the other weeks?"
   ]
  },
  {
   "cell_type": "code",
   "execution_count": 168,
   "metadata": {
    "colab": {
     "base_uri": "https://localhost:8080/",
     "height": 206
    },
    "id": "HWoU2fx0aFsP",
    "outputId": "d0d24fed-6409-46ff-ceaa-258e396732dc",
    "pycharm": {
     "name": "#%%\n"
    }
   },
   "outputs": [
    {
     "data": {
      "text/html": [
       "<div>\n",
       "<style scoped>\n",
       "    .dataframe tbody tr th:only-of-type {\n",
       "        vertical-align: middle;\n",
       "    }\n",
       "\n",
       "    .dataframe tbody tr th {\n",
       "        vertical-align: top;\n",
       "    }\n",
       "\n",
       "    .dataframe thead th {\n",
       "        text-align: right;\n",
       "    }\n",
       "</style>\n",
       "<table border=\"1\" class=\"dataframe\">\n",
       "  <thead>\n",
       "    <tr style=\"text-align: right;\">\n",
       "      <th></th>\n",
       "      <th>Item</th>\n",
       "      <th>Week</th>\n",
       "      <th>Price</th>\n",
       "      <th>Sales</th>\n",
       "      <th>Remaining Inventory</th>\n",
       "      <th>first_sale</th>\n",
       "    </tr>\n",
       "  </thead>\n",
       "  <tbody>\n",
       "    <tr>\n",
       "      <th>0</th>\n",
       "      <td>1</td>\n",
       "      <td>1</td>\n",
       "      <td>60</td>\n",
       "      <td>57</td>\n",
       "      <td>1943</td>\n",
       "      <td>57</td>\n",
       "    </tr>\n",
       "    <tr>\n",
       "      <th>1</th>\n",
       "      <td>1</td>\n",
       "      <td>2</td>\n",
       "      <td>60</td>\n",
       "      <td>98</td>\n",
       "      <td>1845</td>\n",
       "      <td>57</td>\n",
       "    </tr>\n",
       "    <tr>\n",
       "      <th>2</th>\n",
       "      <td>1</td>\n",
       "      <td>3</td>\n",
       "      <td>60</td>\n",
       "      <td>55</td>\n",
       "      <td>1790</td>\n",
       "      <td>57</td>\n",
       "    </tr>\n",
       "    <tr>\n",
       "      <th>3</th>\n",
       "      <td>1</td>\n",
       "      <td>4</td>\n",
       "      <td>60</td>\n",
       "      <td>41</td>\n",
       "      <td>1749</td>\n",
       "      <td>57</td>\n",
       "    </tr>\n",
       "    <tr>\n",
       "      <th>4</th>\n",
       "      <td>1</td>\n",
       "      <td>5</td>\n",
       "      <td>60</td>\n",
       "      <td>60</td>\n",
       "      <td>1689</td>\n",
       "      <td>57</td>\n",
       "    </tr>\n",
       "  </tbody>\n",
       "</table>\n",
       "</div>"
      ],
      "text/plain": [
       "   Item  Week  Price  Sales  Remaining Inventory  first_sale\n",
       "0     1     1     60     57                 1943          57\n",
       "1     1     2     60     98                 1845          57\n",
       "2     1     3     60     55                 1790          57\n",
       "3     1     4     60     41                 1749          57\n",
       "4     1     5     60     60                 1689          57"
      ]
     },
     "execution_count": 168,
     "metadata": {},
     "output_type": "execute_result"
    }
   ],
   "source": [
    "# Add a column first week sale\n",
    "first_sales = list(df.Sales.loc[df.groupby(\"Item\").cumcount().eq(0)])\n",
    "i = list(df.Item.unique())\n",
    "\n",
    "mapping = {i+1: value for i, value in enumerate(first_sales)}\n",
    "df[\"first_sale\"] = df.Item.map(mapping)\n",
    "\n",
    "df.head()"
   ]
  },
  {
   "cell_type": "code",
   "execution_count": 169,
   "metadata": {
    "colab": {
     "base_uri": "https://localhost:8080/",
     "height": 279
    },
    "id": "WyQvlcP1aFsQ",
    "outputId": "2028d4e9-a838-4280-d93c-c115ec7e9482",
    "pycharm": {
     "name": "#%%\n"
    }
   },
   "outputs": [
    {
     "data": {
      "image/png": "[encoded data removed]",
      "text/plain": [
       "<Figure size 432x288 with 1 Axes>"
      ]
     },
     "metadata": {},
     "output_type": "display_data"
    }
   ],
   "source": [
    "# Plot the result (only when the price is 60)\n",
    "sns.boxplot(x=df[\"first_sale\"].loc[df.Price==60], y=df.Sales.loc[df.Price==60])\n",
    "plt.show()"
   ]
  },
  {
   "cell_type": "markdown",
   "metadata": {
    "id": "u9PhQvc3aFsQ",
    "pycharm": {
     "name": "#%% md\n"
    }
   },
   "source": [
    "How about the first two sales"
   ]
  },
  {
   "cell_type": "code",
   "execution_count": 170,
   "metadata": {
    "colab": {
     "base_uri": "https://localhost:8080/",
     "height": 206
    },
    "id": "80m0jpGLaFsR",
    "outputId": "809eb395-2709-468a-802c-5dae9f46db26",
    "pycharm": {
     "name": "#%%\n"
    }
   },
   "outputs": [
    {
     "data": {
      "text/html": [
       "<div>\n",
       "<style scoped>\n",
       "    .dataframe tbody tr th:only-of-type {\n",
       "        vertical-align: middle;\n",
       "    }\n",
       "\n",
       "    .dataframe tbody tr th {\n",
       "        vertical-align: top;\n",
       "    }\n",
       "\n",
       "    .dataframe thead th {\n",
       "        text-align: right;\n",
       "    }\n",
       "</style>\n",
       "<table border=\"1\" class=\"dataframe\">\n",
       "  <thead>\n",
       "    <tr style=\"text-align: right;\">\n",
       "      <th></th>\n",
       "      <th>Item</th>\n",
       "      <th>Week</th>\n",
       "      <th>Price</th>\n",
       "      <th>Sales</th>\n",
       "      <th>Remaining Inventory</th>\n",
       "      <th>first_sale</th>\n",
       "      <th>first2_sale</th>\n",
       "    </tr>\n",
       "  </thead>\n",
       "  <tbody>\n",
       "    <tr>\n",
       "      <th>0</th>\n",
       "      <td>1</td>\n",
       "      <td>1</td>\n",
       "      <td>60</td>\n",
       "      <td>57</td>\n",
       "      <td>1943</td>\n",
       "      <td>57</td>\n",
       "      <td>155</td>\n",
       "    </tr>\n",
       "    <tr>\n",
       "      <th>1</th>\n",
       "      <td>1</td>\n",
       "      <td>2</td>\n",
       "      <td>60</td>\n",
       "      <td>98</td>\n",
       "      <td>1845</td>\n",
       "      <td>57</td>\n",
       "      <td>155</td>\n",
       "    </tr>\n",
       "    <tr>\n",
       "      <th>2</th>\n",
       "      <td>1</td>\n",
       "      <td>3</td>\n",
       "      <td>60</td>\n",
       "      <td>55</td>\n",
       "      <td>1790</td>\n",
       "      <td>57</td>\n",
       "      <td>155</td>\n",
       "    </tr>\n",
       "    <tr>\n",
       "      <th>3</th>\n",
       "      <td>1</td>\n",
       "      <td>4</td>\n",
       "      <td>60</td>\n",
       "      <td>41</td>\n",
       "      <td>1749</td>\n",
       "      <td>57</td>\n",
       "      <td>155</td>\n",
       "    </tr>\n",
       "    <tr>\n",
       "      <th>4</th>\n",
       "      <td>1</td>\n",
       "      <td>5</td>\n",
       "      <td>60</td>\n",
       "      <td>60</td>\n",
       "      <td>1689</td>\n",
       "      <td>57</td>\n",
       "      <td>155</td>\n",
       "    </tr>\n",
       "  </tbody>\n",
       "</table>\n",
       "</div>"
      ],
      "text/plain": [
       "   Item  Week  Price  Sales  Remaining Inventory  first_sale  first2_sale\n",
       "0     1     1     60     57                 1943          57          155\n",
       "1     1     2     60     98                 1845          57          155\n",
       "2     1     3     60     55                 1790          57          155\n",
       "3     1     4     60     41                 1749          57          155\n",
       "4     1     5     60     60                 1689          57          155"
      ]
     },
     "execution_count": 170,
     "metadata": {},
     "output_type": "execute_result"
    }
   ],
   "source": [
    "first2_sales = list(2000-df[\"Remaining Inventory\"].loc[df.groupby(\"Item\").cumcount().eq(1)])\n",
    "i = list(df.Item.unique())\n",
    "\n",
    "\n",
    "mapping = {i+1: value for i, value in enumerate(first2_sales)}\n",
    "df[\"first2_sale\"] = df.Item.map(mapping)\n",
    "\n",
    "df.head()"
   ]
  },
  {
   "cell_type": "code",
   "execution_count": 171,
   "metadata": {
    "colab": {
     "base_uri": "https://localhost:8080/",
     "height": 279
    },
    "id": "5IiBxUuuaFsR",
    "outputId": "eee10df8-d1e6-45d9-8e12-ba4c30725c2c",
    "pycharm": {
     "name": "#%%\n"
    }
   },
   "outputs": [
    {
     "data": {
      "image/png": "[encoded data removed]",
      "text/plain": [
       "<Figure size 432x288 with 1 Axes>"
      ]
     },
     "metadata": {},
     "output_type": "display_data"
    }
   ],
   "source": [
    "# Plot the result (only when the price is 60)\n",
    "sns.boxplot(x=df[\"first2_sale\"].loc[df.Price==60], y=df.Sales.loc[df.Price==60])\n",
    "plt.show()"
   ]
  },
  {
   "cell_type": "markdown",
   "metadata": {
    "id": "vbPc8L7UaFsS",
    "pycharm": {
     "name": "#%% md\n"
    }
   },
   "source": [
    "There might be some correlation using the first weeks of sales but unclear with the number of data points that we have.  We can see that when the Total Sales after two weeks are above 160, there seems to be some correlation that indicates the median sale will be much higher than for the other."
   ]
  },
  {
   "cell_type": "markdown",
   "metadata": {
    "id": "xw0mDwZ2aFsS",
    "pycharm": {
     "name": "#%% md\n"
    }
   },
   "source": [
    "## Calculating correlations\n",
    "using linear regression models"
   ]
  },
  {
   "cell_type": "markdown",
   "metadata": {
    "id": "em4LsYgPaFsT",
    "pycharm": {
     "name": "#%% md\n"
    }
   },
   "source": [
    "### Linear model with sales over price"
   ]
  },
  {
   "cell_type": "code",
   "execution_count": 172,
   "metadata": {},
   "outputs": [
    {
     "name": "stdout",
     "output_type": "stream",
     "text": [
      "                            OLS Regression Results                            \n",
      "==============================================================================\n",
      "Dep. Variable:                  Sales   R-squared:                       0.366\n",
      "Model:                            OLS   Adj. R-squared:                  0.363\n",
      "Method:                 Least Squares   F-statistic:                     128.6\n",
      "Date:                Mon, 09 May 2022   Prob (F-statistic):           7.74e-24\n",
      "Time:                        16:01:32   Log-Likelihood:                -1186.1\n",
      "No. Observations:                 225   AIC:                             2376.\n",
      "Df Residuals:                     223   BIC:                             2383.\n",
      "Df Model:                           1                                         \n",
      "Covariance Type:            nonrobust                                         \n",
      "==============================================================================\n",
      "                 coef    std err          t      P>|t|      [0.025      0.975]\n",
      "------------------------------------------------------------------------------\n",
      "Intercept    334.9640     20.863     16.055      0.000     293.850     376.078\n",
      "Price         -4.3748      0.386    -11.342      0.000      -5.135      -3.615\n",
      "==============================================================================\n",
      "Omnibus:                       36.668   Durbin-Watson:                   1.419\n",
      "Prob(Omnibus):                  0.000   Jarque-Bera (JB):              140.316\n",
      "Skew:                           0.567   Prob(JB):                     3.40e-31\n",
      "Kurtosis:                       6.699   Cond. No.                         358.\n",
      "==============================================================================\n",
      "\n",
      "Notes:\n",
      "[1] Standard Errors assume that the covariance matrix of the errors is correctly specified.\n"
     ]
    }
   ],
   "source": [
    "import statsmodels.formula.api as smf\n",
    "lm1 = smf.ols(data=df, formula=\"Sales ~ Price\").fit()\n",
    "print(lm1.summary())"
   ]
  },
  {
   "cell_type": "code",
   "execution_count": 173,
   "metadata": {},
   "outputs": [
    {
     "name": "stdout",
     "output_type": "stream",
     "text": [
      "                            OLS Regression Results                            \n",
      "==============================================================================\n",
      "Dep. Variable:                  Sales   R-squared:                       0.366\n",
      "Model:                            OLS   Adj. R-squared:                  0.363\n",
      "Method:                 Least Squares   F-statistic:                     128.6\n",
      "Date:                Mon, 09 May 2022   Prob (F-statistic):           7.74e-24\n",
      "Time:                        16:01:32   Log-Likelihood:                -1186.1\n",
      "No. Observations:                 225   AIC:                             2376.\n",
      "Df Residuals:                     223   BIC:                             2383.\n",
      "Df Model:                           1                                         \n",
      "Covariance Type:            nonrobust                                         \n",
      "==============================================================================\n",
      "                 coef    std err          t      P>|t|      [0.025      0.975]\n",
      "------------------------------------------------------------------------------\n",
      "Intercept    334.9640     20.863     16.055      0.000     293.850     376.078\n",
      "Price         -4.3748      0.386    -11.342      0.000      -5.135      -3.615\n",
      "==============================================================================\n",
      "Omnibus:                       36.668   Durbin-Watson:                   1.419\n",
      "Prob(Omnibus):                  0.000   Jarque-Bera (JB):              140.316\n",
      "Skew:                           0.567   Prob(JB):                     3.40e-31\n",
      "Kurtosis:                       6.699   Cond. No.                         358.\n",
      "==============================================================================\n",
      "\n",
      "Notes:\n",
      "[1] Standard Errors assume that the covariance matrix of the errors is correctly specified.\n"
     ]
    }
   ],
   "source": [
    "import statsmodels.formula.api as smf\n",
    "lm1 = smf.ols(data=df, formula=\"Sales ~ Price\").fit()\n",
    "print(lm1.summary())"
   ]
  },
  {
   "cell_type": "markdown",
   "metadata": {
    "id": "3LQmL5lOaFsU",
    "pycharm": {
     "name": "#%% md\n"
    }
   },
   "source": [
    "### With price and week"
   ]
  },
  {
   "cell_type": "code",
   "execution_count": 174,
   "metadata": {
    "colab": {
     "base_uri": "https://localhost:8080/"
    },
    "id": "01ztpEeAaFsU",
    "outputId": "73869357-e12d-4fa0-c062-4775d412762d",
    "pycharm": {
     "name": "#%%\n"
    }
   },
   "outputs": [
    {
     "name": "stdout",
     "output_type": "stream",
     "text": [
      "                            OLS Regression Results                            \n",
      "==============================================================================\n",
      "Dep. Variable:                  Sales   R-squared:                       0.374\n",
      "Model:                            OLS   Adj. R-squared:                  0.369\n",
      "Method:                 Least Squares   F-statistic:                     66.36\n",
      "Date:                Mon, 09 May 2022   Prob (F-statistic):           2.56e-23\n",
      "Time:                        16:01:32   Log-Likelihood:                -1184.6\n",
      "No. Observations:                 225   AIC:                             2375.\n",
      "Df Residuals:                     222   BIC:                             2385.\n",
      "Df Model:                           2                                         \n",
      "Covariance Type:            nonrobust                                         \n",
      "==============================================================================\n",
      "                 coef    std err          t      P>|t|      [0.025      0.975]\n",
      "------------------------------------------------------------------------------\n",
      "Intercept    386.0742     36.266     10.646      0.000     314.605     457.544\n",
      "Price         -5.0610      0.554     -9.138      0.000      -6.152      -3.969\n",
      "Week          -1.8029      1.049     -1.719      0.087      -3.870       0.264\n",
      "==============================================================================\n",
      "Omnibus:                       34.639   Durbin-Watson:                   1.427\n",
      "Prob(Omnibus):                  0.000   Jarque-Bera (JB):              122.216\n",
      "Skew:                           0.555   Prob(JB):                     2.89e-27\n",
      "Kurtosis:                       6.436   Cond. No.                         631.\n",
      "==============================================================================\n",
      "\n",
      "Notes:\n",
      "[1] Standard Errors assume that the covariance matrix of the errors is correctly specified.\n"
     ]
    }
   ],
   "source": [
    "lm2 = smf.ols(data=df, formula=\"Sales ~ Price+Week\").fit()\n",
    "print(lm2.summary())"
   ]
  },
  {
   "cell_type": "code",
   "execution_count": 175,
   "metadata": {},
   "outputs": [],
   "source": [
    "df['Revenue'] = df.Price * df.Sales"
   ]
  },
  {
   "cell_type": "code",
   "execution_count": 176,
   "metadata": {
    "colab": {
     "base_uri": "https://localhost:8080/"
    },
    "id": "O89dGcmkaFsU",
    "outputId": "a6da767a-cde3-4452-cfc0-d795f194a6ed",
    "pycharm": {
     "name": "#%%\n"
    }
   },
   "outputs": [
    {
     "name": "stdout",
     "output_type": "stream",
     "text": [
      "                            OLS Regression Results                            \n",
      "==============================================================================\n",
      "Dep. Variable:                  Sales   R-squared:                       0.390\n",
      "Model:                            OLS   Adj. R-squared:                  0.382\n",
      "Method:                 Least Squares   F-statistic:                     47.16\n",
      "Date:                Mon, 09 May 2022   Prob (F-statistic):           1.35e-23\n",
      "Time:                        16:01:32   Log-Likelihood:                -1181.7\n",
      "No. Observations:                 225   AIC:                             2371.\n",
      "Df Residuals:                     221   BIC:                             2385.\n",
      "Df Model:                           3                                         \n",
      "Covariance Type:            nonrobust                                         \n",
      "==============================================================================\n",
      "                 coef    std err          t      P>|t|      [0.025      0.975]\n",
      "------------------------------------------------------------------------------\n",
      "Intercept    643.7429    112.455      5.724      0.000     422.122     865.363\n",
      "Price         -9.4510      1.897     -4.983      0.000     -13.189      -5.713\n",
      "Week         -23.8619      9.183     -2.599      0.010     -41.959      -5.765\n",
      "Price:Week     0.3816      0.158      2.418      0.016       0.071       0.693\n",
      "==============================================================================\n",
      "Omnibus:                       27.942   Durbin-Watson:                   1.455\n",
      "Prob(Omnibus):                  0.000   Jarque-Bera (JB):               66.579\n",
      "Skew:                           0.558   Prob(JB):                     3.49e-15\n",
      "Kurtosis:                       5.420   Cond. No.                     1.63e+04\n",
      "==============================================================================\n",
      "\n",
      "Notes:\n",
      "[1] Standard Errors assume that the covariance matrix of the errors is correctly specified.\n",
      "[2] The condition number is large, 1.63e+04. This might indicate that there are\n",
      "strong multicollinearity or other numerical problems.\n"
     ]
    }
   ],
   "source": [
    "import statsmodels.formula.api as smf\n",
    "lm2 = smf.ols(data=df, formula = \"Sales ~ Price * Week\").fit()\n",
    "print(lm2.summary())"
   ]
  },
  {
   "cell_type": "markdown",
   "metadata": {
    "id": "vju0_bZ3aFsV",
    "pycharm": {
     "name": "#%% md\n"
    }
   },
   "source": [
    "The third regression gives the best results."
   ]
  },
  {
   "cell_type": "code",
   "execution_count": 177,
   "metadata": {
    "colab": {
     "base_uri": "https://localhost:8080/"
    },
    "id": "2h6P_DMnaFsV",
    "outputId": "17326813-f93f-49b7-81ff-98fe8cd26164",
    "pycharm": {
     "name": "#%%\n"
    }
   },
   "outputs": [
    {
     "data": {
      "text/plain": [
       "Intercept     643.742885\n",
       "Price          -9.450952\n",
       "Week          -23.861872\n",
       "Price:Week      0.381639\n",
       "dtype: float64"
      ]
     },
     "execution_count": 177,
     "metadata": {},
     "output_type": "execute_result"
    }
   ],
   "source": [
    "# Get the coefficients\n",
    "lm2.params"
   ]
  },
  {
   "cell_type": "markdown",
   "metadata": {},
   "source": [
    "Alternate Approach"
   ]
  },
  {
   "cell_type": "code",
   "execution_count": null,
   "metadata": {},
   "outputs": [],
   "source": []
  },
  {
   "cell_type": "code",
   "execution_count": 178,
   "metadata": {},
   "outputs": [
    {
     "name": "stdout",
     "output_type": "stream",
     "text": [
      "                            OLS Regression Results                            \n",
      "==============================================================================\n",
      "Dep. Variable:                  Sales   R-squared:                       0.378\n",
      "Model:                            OLS   Adj. R-squared:                  0.366\n",
      "Method:                 Least Squares   F-statistic:                     33.36\n",
      "Date:                Mon, 09 May 2022   Prob (F-statistic):           9.52e-22\n",
      "Time:                        16:01:34   Log-Likelihood:                -1184.0\n",
      "No. Observations:                 225   AIC:                             2378.\n",
      "Df Residuals:                     220   BIC:                             2395.\n",
      "Df Model:                           4                                         \n",
      "Covariance Type:            nonrobust                                         \n",
      "==================================================================================\n",
      "                     coef    std err          t      P>|t|      [0.025      0.975]\n",
      "----------------------------------------------------------------------------------\n",
      "Intercept        212.5848     19.289     11.021      0.000     174.570     250.600\n",
      "C(Price)[T.48]   -64.7641     11.485     -5.639      0.000     -87.399     -42.130\n",
      "C(Price)[T.54]   -86.3351     11.318     -7.628      0.000    -108.640     -64.030\n",
      "C(Price)[T.60]  -128.3866     14.951     -8.587      0.000    -157.853     -98.920\n",
      "Week              -2.4975      1.381     -1.809      0.072      -5.218       0.223\n",
      "==============================================================================\n",
      "Omnibus:                       33.833   Durbin-Watson:                   1.433\n",
      "Prob(Omnibus):                  0.000   Jarque-Bera (JB):              114.197\n",
      "Skew:                           0.555   Prob(JB):                     1.59e-25\n",
      "Kurtosis:                       6.309   Cond. No.                         74.9\n",
      "==============================================================================\n",
      "\n",
      "Notes:\n",
      "[1] Standard Errors assume that the covariance matrix of the errors is correctly specified.\n"
     ]
    }
   ],
   "source": [
    "import statsmodels.formula.api as smf\n",
    "lm3 = smf.ols(data=df, formula = \"Sales ~ C(Price) + Week\").fit()\n",
    "print(lm3.summary())"
   ]
  },
  {
   "cell_type": "markdown",
   "metadata": {
    "id": "CGkXnKH2aFsW",
    "pycharm": {
     "name": "#%% md\n"
    }
   },
   "source": [
    "## Static Markdown Optimization\n",
    "We optimize the problem in advance, not requiring to update based on the results we are seeing.\n",
    "This is an approach that requires less computing power and can serve as a baseline for comparison for dynamic approaches.\n",
    "\n",
    "Here, we want to optimize the total revenues"
   ]
  },
  {
   "cell_type": "markdown",
   "metadata": {
    "id": "LSuSZyTfaFsW",
    "pycharm": {
     "name": "#%% md\n"
    }
   },
   "source": [
    "Start by creating 4 revenue formulas based on the 4 price points.\n",
    "Y is the revenues generated at each price point and week#"
   ]
  },
  {
   "cell_type": "code",
   "execution_count": 19,
   "metadata": {
    "colab": {
     "base_uri": "https://localhost:8080/"
    },
    "id": "nnGEhfsqaFsX",
    "outputId": "89af6399-edbf-47ce-fdb5-0aed8f47a7ca",
    "pycharm": {
     "name": "#%%\n"
    }
   },
   "outputs": [
    {
     "name": "stdout",
     "output_type": "stream",
     "text": [
      "[ 6.43742885e+02 -9.45095190e+00 -2.38618716e+01  3.81639277e-01]\n"
     ]
    }
   ],
   "source": [
    "y = np.zeros((4,4))\n",
    "p = list(df.Price.unique())\n",
    "y= np.array(lm2.params)\n",
    "print(y)"
   ]
  },
  {
   "cell_type": "code",
   "execution_count": 20,
   "metadata": {
    "id": "mS6jOXAOaFsX",
    "pycharm": {
     "name": "#%%\n"
    }
   },
   "outputs": [],
   "source": [
    "import gurobipy as gp\n",
    "from gurobipy import GRB"
   ]
  },
  {
   "cell_type": "code",
   "execution_count": 21,
   "metadata": {
    "id": "PbwmFz5AaFsY",
    "pycharm": {
     "name": "#%%\n"
    }
   },
   "outputs": [
    {
     "name": "stdout",
     "output_type": "stream",
     "text": [
      "Set parameter Username\n",
      "Academic license - for non-commercial use only - expires 2022-07-07\n"
     ]
    }
   ],
   "source": [
    "model = gp.Model(\"linear_model\")"
   ]
  },
  {
   "cell_type": "code",
   "execution_count": 22,
   "metadata": {
    "id": "QCKS_oOcaFsY",
    "pycharm": {
     "name": "#%%\n"
    }
   },
   "outputs": [],
   "source": [
    "# Decision variable\n",
    "n_weeks = 15\n",
    "# i price point and j weeks\n",
    "X = model.addVars(4,n_weeks, vtype=GRB.BINARY, name=\"X\")\n",
    "S = model.addVar(1, name=\"Sales\")"
   ]
  },
  {
   "cell_type": "code",
   "execution_count": 23,
   "metadata": {
    "id": "0mne8M-OaFsY",
    "pycharm": {
     "name": "#%%\n"
    }
   },
   "outputs": [],
   "source": [
    "week = list(range(1,n_weeks+1))\n",
    "sales = gp.quicksum(\n",
    "    X[i,j]*(y[0] + y[1]*p[i] + (y[2]+y[3]*p[i])*week[j]) for i in range(4) for j in range(n_weeks)  # using the linear regression results\n",
    ")\n",
    "revenue = gp.quicksum(\n",
    "    p[i]*X[i,j]*(y[0] + y[1]*p[i] + (y[2]+y[3]*p[i])*week[j]) for i in range(4) for j in range(n_weeks)  # using the linear regression results\n",
    ")\n",
    "\n",
    "model.setObjective(revenue, sense=GRB.MAXIMIZE)"
   ]
  },
  {
   "cell_type": "code",
   "execution_count": 24,
   "metadata": {
    "id": "IvDn3lHZaFsZ",
    "pycharm": {
     "name": "#%%\n"
    }
   },
   "outputs": [],
   "source": [
    "# Constraints\n",
    "# 1 week selected\n",
    "model.addConstrs((gp.quicksum(X[i,j] for i in range(4)) <= 1 for j in range(n_weeks)), name=\"PriceStratEachWeek\")\n",
    "\n",
    "# Maximum sales of 2000\n",
    "model.addConstr(S == sales)\n",
    "model.addConstr(0<=2000-sales, name=\"MaxSales\")\n",
    "\n",
    "# First week is full price\n",
    "model.addConstr(X[0,0] == 1, name=\"FirstWeekFullPrice\")\n",
    "\n",
    "# Sub-sequent weeks cannot have price (based on index) lower than the current one\n",
    "for j in range(1, n_weeks):\n",
    "  for i in range(1, 5):\n",
    "    model.addConstr(X[i-1, j-1] <= (gp.quicksum(X[k, j] for k in range(i-1, 4))), name=f\"SubsequentPriceConstraint_i_j\")"
   ]
  },
  {
   "cell_type": "code",
   "execution_count": 25,
   "metadata": {
    "colab": {
     "base_uri": "https://localhost:8080/"
    },
    "id": "ezP3mLs2aFsZ",
    "outputId": "8242e942-418e-4531-b988-92b6fd915df9",
    "pycharm": {
     "name": "#%%\n"
    }
   },
   "outputs": [
    {
     "name": "stdout",
     "output_type": "stream",
     "text": [
      "Gurobi Optimizer version 9.5.1 build v9.5.1rc2 (win64)\n",
      "Thread count: 2 physical cores, 4 logical processors, using up to 4 threads\n",
      "Optimize a model with 74 rows, 61 columns and 378 nonzeros\n",
      "Model fingerprint: 0xbfed508a\n",
      "Variable types: 1 continuous, 60 integer (60 binary)\n",
      "Coefficient statistics:\n",
      "  Matrix range     [1e+00, 3e+02]\n",
      "  Objective range  [4e+03, 1e+04]\n",
      "  Bounds range     [1e+00, 1e+00]\n",
      "  RHS range        [1e+00, 2e+03]\n",
      "Presolve removed 32 rows and 17 columns\n",
      "Presolve time: 0.01s\n",
      "Presolved: 42 rows, 44 columns, 153 nonzeros\n",
      "Variable types: 0 continuous, 44 integer (44 binary)\n",
      "Found heuristic solution: objective 85931.338695\n",
      "Found heuristic solution: objective 87200.518524\n",
      "Found heuristic solution: objective 97234.879454\n",
      "\n",
      "Root relaxation: objective 9.822794e+04, 30 iterations, 0.00 seconds (0.00 work units)\n",
      "\n",
      "    Nodes    |    Current Node    |     Objective Bounds      |     Work\n",
      " Expl Unexpl |  Obj  Depth IntInf | Incumbent    BestBd   Gap | It/Node Time\n",
      "\n",
      "     0     0 infeasible    0      97234.8795 97234.8795  0.00%     -    0s\n",
      "\n",
      "Explored 1 nodes (30 simplex iterations) in 0.04 seconds (0.00 work units)\n",
      "Thread count was 4 (of 4 available processors)\n",
      "\n",
      "Solution count 3: 97234.9 87200.5 85931.3 \n",
      "\n",
      "Optimal solution found (tolerance 1.00e-04)\n",
      "Best objective 9.723487945444e+04, best bound 9.723487945444e+04, gap 0.0000%\n"
     ]
    }
   ],
   "source": [
    "model.optimize()"
   ]
  },
  {
   "cell_type": "code",
   "execution_count": 26,
   "metadata": {
    "colab": {
     "base_uri": "https://localhost:8080/"
    },
    "id": "0s0jxGRNciHe",
    "outputId": "f857e3f0-d29d-4631-bc2c-14ecc3c208f6"
   },
   "outputs": [
    {
     "name": "stdout",
     "output_type": "stream",
     "text": [
      "Average Revenue to be Expected = 97234.87945444147\n",
      "Sales = 1975.4815646603365\n",
      "X[0,0] = 1.0\n",
      "X[1,1] = 1.0\n",
      "X[1,2] = 1.0\n",
      "X[2,10] = 1.0\n",
      "X[2,11] = 1.0\n",
      "X[2,12] = 1.0\n",
      "X[2,13] = 1.0\n",
      "X[2,14] = 1.0\n",
      "X[2,3] = 1.0\n",
      "X[2,4] = 1.0\n",
      "X[2,5] = 1.0\n",
      "X[2,6] = 1.0\n",
      "X[2,7] = 1.0\n",
      "X[2,8] = 1.0\n",
      "X[2,9] = 1.0\n"
     ]
    }
   ],
   "source": [
    "print(f\"Average Revenue to be Expected = {model.objVal}\")\n",
    "res=[]\n",
    "for v in model.getVars():\n",
    "    if v.x>0:\n",
    "        res.append(v.varName+ \" = \" + str(v.x))\n",
    "for i in sorted(res):\n",
    "  print(i)"
   ]
  },
  {
   "cell_type": "code",
   "execution_count": 27,
   "metadata": {
    "colab": {
     "base_uri": "https://localhost:8080/"
    },
    "id": "ekDXTqaxez4w",
    "outputId": "4d730aa1-62a2-49f3-d0a6-5fd78927e73a"
   },
   "outputs": [
    {
     "name": "stdout",
     "output_type": "stream",
     "text": [
      "Average Revenue to be Expected = 97234.87945444147\n",
      "\n"
     ]
    },
    {
     "data": {
      "text/plain": [
       "{0: 'Price: 60',\n",
       " 1: 'Price: 54',\n",
       " 2: 'Price: 54',\n",
       " 3: 'Price: 48',\n",
       " 4: 'Price: 48',\n",
       " 5: 'Price: 48',\n",
       " 6: 'Price: 48',\n",
       " 7: 'Price: 48',\n",
       " 8: 'Price: 48',\n",
       " 9: 'Price: 48',\n",
       " 10: 'Price: 48',\n",
       " 11: 'Price: 48',\n",
       " 12: 'Price: 48',\n",
       " 13: 'Price: 48',\n",
       " 14: 'Price: 48'}"
      ]
     },
     "execution_count": 27,
     "metadata": {},
     "output_type": "execute_result"
    }
   ],
   "source": [
    "print(f\"Average Revenue to be Expected = {model.objVal}\\n\")\n",
    "res={}\n",
    "i=0\n",
    "for v in model.getVars():\n",
    "    if v.x==1:\n",
    "        res[int(v.varName[2:-1].split(',')[-1])] = f\"\"\"Price: {p[int(v.varName[2:-1].split(',')[0])]}\"\"\"\n",
    "        i+=1\n",
    "res"
   ]
  },
  {
   "cell_type": "code",
   "execution_count": 28,
   "metadata": {
    "colab": {
     "base_uri": "https://localhost:8080/"
    },
    "id": "yVkDr5zdaFsZ",
    "outputId": "5e05a7a4-a526-4f89-d27a-34e3bfe8fa47",
    "pycharm": {
     "name": "#%%\n"
    }
   },
   "outputs": [
    {
     "name": "stdout",
     "output_type": "stream",
     "text": [
      "Average Revenue to be Expected = 97234.87945444147\n",
      "\n",
      "X[0,0] = 1.0\n",
      "X[1,1] = 1.0\n",
      "X[1,2] = 1.0\n",
      "X[2,3] = 1.0\n",
      "X[2,4] = 1.0\n",
      "X[2,5] = 1.0\n",
      "X[2,6] = 1.0\n",
      "X[2,7] = 1.0\n",
      "X[2,8] = 1.0\n",
      "X[2,9] = 1.0\n",
      "X[2,10] = 1.0\n",
      "X[2,11] = 1.0\n",
      "X[2,12] = 1.0\n",
      "X[2,13] = 1.0\n",
      "X[2,14] = 1.0\n",
      "Sales = 1975.4815646603365\n"
     ]
    }
   ],
   "source": [
    "print(f\"Average Revenue to be Expected = {model.objVal}\\n\")\n",
    "\n",
    "for v in model.getVars():\n",
    "    if v.x>0:\n",
    "        print(v.varName, \"=\", v.x)"
   ]
  },
  {
   "cell_type": "code",
   "execution_count": 29,
   "metadata": {
    "colab": {
     "base_uri": "https://localhost:8080/"
    },
    "id": "YcejjjSiaFsZ",
    "outputId": "cf224332-ed73-4798-e444-2e95f597eb22",
    "pycharm": {
     "name": "#%%\n"
    }
   },
   "outputs": [
    {
     "data": {
      "text/plain": [
       "[60, 54, 48, 36]"
      ]
     },
     "execution_count": 29,
     "metadata": {},
     "output_type": "execute_result"
    }
   ],
   "source": [
    "p"
   ]
  },
  {
   "cell_type": "markdown",
   "metadata": {
    "id": "rpLMTt5B1hc8",
    "pycharm": {
     "name": "#%% md\n"
    }
   },
   "source": [
    "## Dynamic Markdown Optimization\n",
    "Manual Sales Input for Now"
   ]
  },
  {
   "cell_type": "code",
   "execution_count": 30,
   "metadata": {
    "colab": {
     "base_uri": "https://localhost:8080/"
    },
    "id": "VPJJszvB1hc_",
    "outputId": "a277bde5-706d-49bd-af7b-e62c7fad6b88",
    "pycharm": {
     "name": "#%%\n"
    }
   },
   "outputs": [
    {
     "data": {
      "text/plain": [
       "1"
      ]
     },
     "execution_count": 30,
     "metadata": {},
     "output_type": "execute_result"
    }
   ],
   "source": [
    "def _take_action(sales_record=[], lm2=lm2):\n",
    "    # Taking sales_record and regression (statsmodels.regression.linear_model.RegressionResultsWrapper) \n",
    "    ## Define a strategy to take play the game ##\n",
    "\n",
    "    # Using Gurobi # \n",
    "\n",
    "    # Storing previuos sales information\n",
    "    current_sales = sales_record\n",
    "\n",
    "    # Start by creating 4 revenue formulas based on the 4 price points. Y is the revenues generated at each price point and week#\n",
    "    y = np.zeros((4,4))\n",
    "    p = list(df.Price.unique())\n",
    "    y= np.array(lm2.params)\n",
    "    # print(y) # Coefficients\n",
    "\n",
    "    import gurobipy as gp\n",
    "    from gurobipy import GRB\n",
    "\n",
    "    model = gp.Model(\"linear_model\")\n",
    "\n",
    "    # Decision variable\n",
    "    n_weeks = 15 - len(current_sales)\n",
    "    # i price point and j weeks\n",
    "    X = model.addVars(4,n_weeks, vtype=GRB.BINARY, name=\"X\")\n",
    "    S = model.addVar(1, name=\"Sales\")\n",
    "\n",
    "    # Objective\n",
    "    week = list(range(1,n_weeks+1))\n",
    "    sales = gp.quicksum(\n",
    "        X[i,j]*(y[0] + y[1]*p[i] + (y[2]+y[3]*p[i])*week[j]) for i in range(4) for j in range(n_weeks)  # using the linear regression results\n",
    "    )\n",
    "    revenue = gp.quicksum(\n",
    "        p[i]*X[i,j]*(y[0] + y[1]*p[i] + (y[2]+y[3]*p[i])*week[j]) for i in range(4) for j in range(n_weeks)  # using the linear regression results\n",
    "    )\n",
    "\n",
    "    model.setObjective(revenue, sense=GRB.MAXIMIZE)\n",
    "\n",
    "    # Constraints\n",
    "    # 1 week selected\n",
    "    model.addConstrs((gp.quicksum(X[i,j] for i in range(4)) <= 1 for j in range(n_weeks)), name=\"PriceStratEachWeek\")\n",
    "\n",
    "    # Maximum sales of 2000\n",
    "    model.addConstr(S == sales)\n",
    "    model.addConstr(0<=2000-sales, name=\"MaxSales\")\n",
    "\n",
    "    # # First week is full price\n",
    "    # model.addConstr(X[0,0] == 1, name=\"FirstWeekFullPrice\")\n",
    "\n",
    "    # Sub-sequent weeks cannot have price (based on index) lower than the current one\n",
    "    for j in range(1, n_weeks):\n",
    "      for i in range(1, 5):\n",
    "        model.addConstr(X[i-1, j-1] <= (gp.quicksum(X[k, j] for k in range(i-1, 4))), name=f\"SubsequentPriceConstraint_i_j\")\n",
    "\n",
    "    model.Params.LogToConsole = 0\n",
    "    model.optimize()\n",
    "\n",
    "\n",
    "    # print(f\"Average Revenue to be Expected = {model.objVal}\\n\")\\\n",
    "    # print each decision made\n",
    "#     res={}\n",
    "#     i=0\n",
    "#     for v in model.getVars():\n",
    "#         if v.x==1:\n",
    "#             res[int(v.varName[2:-1].split(',')[-1])] = f\"\"\"Price: {p[int(v.varName[2:-1].split(',')[0])]}\"\"\"\n",
    "#             i+=1\n",
    "#     print(res)\n",
    "    for v in model.getVars():\n",
    "        # Getting the first week's price\n",
    "        if v.x==1 and v.varName.endswith(\",0]\"):\n",
    "#             print(v.varName, v.X)\n",
    "            next_action = int(v.varName[2:-1].split(',')[0])\n",
    "            return(next_action) # Get the price selected\n",
    "            \n",
    "_take_action()"
   ]
  },
  {
   "cell_type": "code",
   "execution_count": 31,
   "metadata": {
    "colab": {
     "base_uri": "https://localhost:8080/"
    },
    "id": "XZRQi_Zz1hdC",
    "outputId": "e6f8508f-eaf1-40d9-cf17-d8bea16a0863"
   },
   "outputs": [],
   "source": [
    "# print(f\"Average Revenue to be Expected = {model.objVal}\")\n",
    "# res=[]\n",
    "# for v in model.getVars():\n",
    "#     if v.x>0:\n",
    "#         res.append(v.varName+ \" = \" + str(v.x))\n",
    "# for i in sorted(res):\n",
    "#   print(i)"
   ]
  },
  {
   "cell_type": "code",
   "execution_count": 32,
   "metadata": {
    "colab": {
     "base_uri": "https://localhost:8080/"
    },
    "id": "vNhnAsYn1hdC",
    "outputId": "1ebcdeee-bb3b-424f-9171-fe9dfee492a9"
   },
   "outputs": [],
   "source": [
    "# print(f\"Average Revenue to be Expected = {model.objVal}\\n\")\n",
    "# res={}\n",
    "# i=0\n",
    "# for v in model.getVars():\n",
    "#     if v.x==1:\n",
    "#         res[int(v.varName[2:-1].split(',')[-1])] = f\"\"\"Price: {p[int(v.varName[2:-1].split(',')[0])]}\"\"\"\n",
    "#         i+=1\n",
    "# res"
   ]
  },
  {
   "cell_type": "code",
   "execution_count": 33,
   "metadata": {
    "colab": {
     "base_uri": "https://localhost:8080/"
    },
    "id": "bVrcevfA1hdD",
    "outputId": "292d4ca0-fb5a-41e5-c387-b21ceed36e62",
    "pycharm": {
     "name": "#%%\n"
    }
   },
   "outputs": [],
   "source": [
    "# print(f\"Average Revenue to be Expected = {model.objVal}\\n\")\n",
    "\n",
    "# for v in model.getVars():\n",
    "#     if v.x>0:\n",
    "#         print(v.varName, \"=\", v.x)"
   ]
  },
  {
   "cell_type": "code",
   "execution_count": 34,
   "metadata": {
    "colab": {
     "base_uri": "https://localhost:8080/"
    },
    "id": "Ddx-HNkx1hdD",
    "outputId": "f615afb5-e888-4ffe-88bd-0645a05ce28f",
    "pycharm": {
     "name": "#%%\n"
    }
   },
   "outputs": [],
   "source": [
    "# p"
   ]
  },
  {
   "cell_type": "markdown",
   "metadata": {
    "id": "tXw96zaJ4ymx"
   },
   "source": [
    "# Selenium"
   ]
  },
  {
   "cell_type": "markdown",
   "metadata": {},
   "source": [
    "## Baseline (Always Maintain)"
   ]
  },
  {
   "cell_type": "code",
   "execution_count": 206,
   "metadata": {},
   "outputs": [
    {
     "name": "stderr",
     "output_type": "stream",
     "text": [
      "E:\\AnacondaInstallation\\lib\\site-packages\\numpy\\core\\fromnumeric.py:3419: RuntimeWarning: Mean of empty slice.\n",
      "  return _methods._mean(a, axis=axis, dtype=dtype,\n",
      "E:\\AnacondaInstallation\\lib\\site-packages\\numpy\\core\\_methods.py:188: RuntimeWarning: invalid value encountered in double_scalars\n",
      "  ret = ret.dtype.type(ret / rcount)\n"
     ]
    },
    {
     "name": "stdout",
     "output_type": "stream",
     "text": [
      "[0.07095753099446056, 0.3780212697389623, 0.2384805845763633, 0.22375245930960472, 0.2557543195555284, 0.12794853466761974, 0.3901156677181914, 0.05740498034076016, 0.3175388967468175, 0.33259749816041206, 0.008727236038944661, 0.18710500376877137, 0.0, 0.23522316043425814, 0.1364142538975501, 0.1910569105691057, 0.13418001104362232, 0.2943042156733184, 0.38831346492085206, 0.19345446075005823, 0.28389913338111683, 0.0449175037734867, 0.16999885753455957, 0.3220941812491108, 0.16133416388243954, 0.30605226960110044, 0.3488868557487039, 0.17809004875250933, 0.22309209346799738, 0.36596480201131365, 0.35933364471430795, 0.17282465486624277, 0.2112244296409833, 0.05411051916849473, 0.12536443148688048, 0.21518687437066872, 0.3093732820230896, 0.1352635650348105, 0.17242166543005535, 0.2834707499018453, 0.3642571226748293, 0.28819558235564, 0.28965336134453784, 0.15539779130042822, 0.11028931912116598, 0.2605873261205564, 0.30151024811218985, 0.09402809048997535, 0.19820397690827454, 0.18757950734358736]\n"
     ]
    }
   ],
   "source": [
    "from selenium import webdriver\n",
    "import statsmodels.stats.api as sms\n",
    "import warnings\n",
    "warnings.filterwarnings(\"ignore\", category=DeprecationWarning) \n",
    "\n",
    "browser=webdriver.Chrome(executable_path=r'C:\\Users\\Uzair\\Desktop\\chromedriver.exe')\n",
    "browser.get(\"http://www.randhawa.us/games/retailer/nyu.html\")\n",
    "\n",
    "# Getting the push buttons\n",
    "maintain = browser.find_element_by_id(\"maintainButton\")\n",
    "drop_10 = browser.find_element_by_id(\"tenButton\")\n",
    "drop_20 = browser.find_element_by_id(\"twentyButton\")\n",
    "drop_40 = browser.find_element_by_id(\"fortyButton\")\n",
    "restart = browser.find_element_by_class_name(\"button\")\n",
    "\n",
    "# Master dictionary to scores summaries from gameplay\n",
    "results = {\"revenue\": [], \"perfect\": [], \"score\": []}\n",
    "\n",
    "# How many games we wanna play\n",
    "n_games = 50\n",
    "for _ in range(n_games):\n",
    "    restart.click()\n",
    "    for _ in range(15):\n",
    "        maintain_click(1)\n",
    "    \n",
    "    # Storing Info\n",
    "    revenue = int(sub(r'[^\\d.]', '', browser.find_element_by_id(\"rev\").text))\n",
    "    perfect = int(sub(r'[^\\d.]', '', browser.find_element_by_id(\"perfect\").text))\n",
    "    score = (perfect - revenue)/perfect\n",
    "\n",
    "    results['revenue'].append(revenue)\n",
    "    results['perfect'].append(perfect)\n",
    "    results['score'].append(score)    \n",
    "\n",
    "print(results['score'])"
   ]
  },
  {
   "cell_type": "code",
   "execution_count": 207,
   "metadata": {},
   "outputs": [
    {
     "name": "stdout",
     "output_type": "stream",
     "text": [
      "Runs: 50\n",
      "Average Differences: 0.22, Standard Deviation: 0.10386434194468593\n",
      "95% CI: (0.1875612108742875, 0.24659704955435657)\n"
     ]
    }
   ],
   "source": [
    "print(f\"Runs: {len(results['score'])}\")\n",
    "print(f\"Average Differences: {np.mean(results['score']):.2f}, Standard Deviation: {np.std(results['score'], ddof=1)}\")\n",
    "print(f\"95% CI: {sms.DescrStatsW(results['score']).tconfint_mean(alpha=0.05)}\")"
   ]
  },
  {
   "cell_type": "markdown",
   "metadata": {},
   "source": [
    "## Dynamic Approach (Regression Estimates Linear Optimization)"
   ]
  },
  {
   "cell_type": "code",
   "execution_count": 188,
   "metadata": {},
   "outputs": [
    {
     "name": "stdout",
     "output_type": "stream",
     "text": [
      "_______\n",
      "_______\n",
      "_______\n",
      "_______\n",
      "_______\n",
      "_______\n",
      "_______\n",
      "_______\n",
      "_______\n",
      "_______\n",
      "_______\n",
      "_______\n",
      "_______\n",
      "_______\n",
      "_______\n",
      "_______\n",
      "_______\n",
      "_______\n",
      "_______\n",
      "_______\n",
      "_______\n",
      "_______\n",
      "_______\n",
      "_______\n",
      "_______\n",
      "_______\n",
      "_______\n",
      "_______\n",
      "_______\n",
      "_______\n",
      "_______\n",
      "_______\n",
      "_______\n",
      "_______\n",
      "_______\n",
      "_______\n",
      "_______\n",
      "_______\n",
      "_______\n",
      "_______\n",
      "_______\n",
      "_______\n",
      "_______\n",
      "_______\n",
      "_______\n",
      "_______\n",
      "_______\n",
      "_______\n",
      "_______\n",
      "_______\n",
      "{'revenue': [108822, 63438, 108768, 98484, 72192, 98712, 101466, 98562, 103338, 109794, 68016, 76074, 103296, 87696, 99582, 100356, 94338, 97494, 108780, 108714, 98286, 108714, 108672, 73656, 98694, 101592, 102540, 98556, 100410, 67614, 99000, 12108, 86346, 88878, 102378, 108708, 108948, 83574, 97404, 101598, 101544, 108846, 89412, 91242, 87804, 98004, 81708, 105108, 108660, 100620], 'perfect': [120000, 70056, 115314, 105084, 75732, 105570, 106218, 106446, 112182, 120000, 73860, 79272, 112230, 88344, 110790, 108270, 97662, 100596, 120000, 115194, 99888, 114534, 113604, 78000, 106560, 107670, 117738, 102036, 105690, 73512, 105564, 12996, 91500, 89976, 109548, 115614, 120000, 85248, 98586, 109200, 113904, 120000, 97752, 96048, 98556, 101964, 82584, 110616, 118710, 110262], 'score': [0.09315, 0.09446728331620417, 0.056766741245642335, 0.06280689733927144, 0.046743780700364446, 0.0649616368286445, 0.044738179969496694, 0.07406572346541909, 0.0788361769267797, 0.08505, 0.07912266450040617, 0.04034211323039661, 0.07960438385458433, 0.007334963325183374, 0.10116436501489304, 0.07309504017733444, 0.03403575597468821, 0.030836216151735655, 0.0935, 0.05625292984009584, 0.01603796251802018, 0.050814605270050814, 0.043413964297031794, 0.055692307692307694, 0.07381756756756756, 0.05645026469768738, 0.12908321867196657, 0.03410560978478184, 0.04995742265114959, 0.08023179888997714, 0.062180288734795953, 0.06832871652816251, 0.056327868852459016, 0.0122032542011203, 0.06545076131011064, 0.059733250298406766, 0.0921, 0.019636824324324325, 0.011989531982228714, 0.06961538461538462, 0.10851243152128108, 0.09295, 0.08531794745887553, 0.05003748125937031, 0.10909533666139049, 0.03883723667176651, 0.01060738157512351, 0.049793881536124976, 0.08466009603234774, 0.08744626435217935]}\n"
     ]
    }
   ],
   "source": [
    "from selenium import webdriver\n",
    "import statsmodels.stats.api as sms\n",
    "import warnings\n",
    "warnings.filterwarnings(\"ignore\", category=DeprecationWarning) \n",
    "\n",
    "browser=webdriver.Chrome(executable_path=r'C:\\Users\\Uzair\\Desktop\\chromedriver.exe')\n",
    "browser.get(\"http://www.randhawa.us/games/retailer/nyu.html\")\n",
    "\n",
    "# Getting the push buttons\n",
    "maintain = browser.find_element_by_id(\"maintainButton\")\n",
    "drop_10 = browser.find_element_by_id(\"tenButton\")\n",
    "drop_20 = browser.find_element_by_id(\"twentyButton\")\n",
    "drop_40 = browser.find_element_by_id(\"fortyButton\")\n",
    "restart = browser.find_element_by_class_name(\"button\")\n",
    "\n",
    "# Master dictionary to scores summaries from gameplay\n",
    "results = {\"revenue\": [], \"perfect\": [], \"score\": []}\n",
    "\n",
    "def play_game(lm2=lm2):\n",
    "    restart.click() # Restart Game\n",
    "    # Taking sales_record and regression (statsmodels.regression.linear_model.RegressionResultsWrapper) \n",
    "    \n",
    "    # Start by creating 4 revenue formulas based on the 4 price points. Y is the revenues generated at each price point and week#\n",
    "    y = np.zeros((4,4))\n",
    "    p = sorted(list(df.Price.unique()), reverse=True)\n",
    "    y= np.array(lm2.params)\n",
    "    # print(y) # Coefficients\n",
    "    \n",
    "    sales_record = [] # To store sales\n",
    "#   _retrieve_sales() # Get sales at the start of the game\n",
    "    previous_price_index = 0 # For the first run\n",
    "    restart.click() # unnecessary restart click\n",
    "\n",
    "    def _retrieve_sales():\n",
    "        for tr in browser.find_elements_by_xpath('//table[@id=\"result-table\"]//tr'):\n",
    "            lds = tr.find_elements_by_tag_name('td')\n",
    "        sales_record.append(int(lds[-2].text))\n",
    "   \n",
    "    def _gurobi_optimize():\n",
    "        ## Define a strategy to take play the game using Gurobi ##\n",
    "         \n",
    "        # Storing previuos sales information\n",
    "        current_sales = sales_record\n",
    "        import gurobipy as gp\n",
    "        from gurobipy import GRB\n",
    "\n",
    "        model = gp.Model(\"linear_model\")\n",
    "\n",
    "        # Decision variable\n",
    "        n_weeks = 15 - len(current_sales)\n",
    "        # i price point and j weeks\n",
    "        X = model.addVars(4,n_weeks, vtype=GRB.BINARY, name=\"X\")\n",
    "        S = model.addVar(1, name=\"Sales\")\n",
    "\n",
    "        # Objective\n",
    "        week = list(range(len(current_sales)+1,16))\n",
    "        sales = gp.quicksum(\n",
    "            X[i,j]*(y[0] + y[1]*p[i] + (y[2]+y[3]*p[i])*week[j]) for i in range(4) for j in range(n_weeks)  # using the linear regression results\n",
    "        )\n",
    "        revenue = gp.quicksum(\n",
    "            p[i]*X[i,j]*(y[0] + y[1]*p[i] + (y[2]+y[3]*p[i])*week[j]) for i in range(4) for j in range(n_weeks)  # using the linear regression results\n",
    "        )\n",
    "\n",
    "        model.setObjective(revenue, sense=GRB.MAXIMIZE)\n",
    "\n",
    "        # Constraints\n",
    "        # 1 week selected\n",
    "        model.addConstrs((gp.quicksum(X[i,j] for i in range(4)) <= 1 for j in range(n_weeks)), name=\"PriceStratEachWeek\")\n",
    "\n",
    "        # Maximum sales of 2000\n",
    "        model.addConstr(S == sales)\n",
    "        model.addConstr(0<=2000-sum(current_sales)-sales, name=\"MaxSales\")\n",
    "\n",
    "        # # First week is full price\n",
    "        # model.addConstr(X[0,0] == 1, name=\"FirstWeekFullPrice\")\n",
    "\n",
    "        # Sub-sequent weeks cannot have price (based on index) lower than the current one\n",
    "        for j in range(1, n_weeks):\n",
    "          for i in range(1, 5):\n",
    "            model.addConstr(X[i-1, j-1] <= (gp.quicksum(X[k, j] for k in range(i-1, 4))), name=f\"SubsequentPriceConstraint_i_j\")\n",
    "\n",
    "        try:\n",
    "            model.Params.LogToConsole = 0\n",
    "            model.optimize()\n",
    "            # print(f\"Average Revenue to be Expected = {model.objVal}\\n\")\\\n",
    "            # print each decision made\n",
    "        #     res={}\n",
    "        #     i=0\n",
    "        #     for v in model.getVars():\n",
    "        #         if v.x==1:\n",
    "        #             res[int(v.varName[2:-1].split(',')[-1])] = f\"\"\"Price: {p[int(v.varName[2:-1].split(',')[0])]}\"\"\"\n",
    "        #             i+=1\n",
    "        #     print(res)\n",
    "            for v in model.getVars():\n",
    "                # Getting the first week's price\n",
    "                if v.x==1 and v.varName.endswith(\",0]\"):\n",
    "        #             print(v.varName, v.X)\n",
    "                    next_action = int(v.varName[2:-1].split(',')[0])\n",
    "                    return(next_action) # Get the price selected\n",
    "        except:\n",
    "#             print(\"Can't optimize (game ended or infeasible solution)!\")\n",
    "            return(-1) # Return -1\n",
    "    \n",
    "\n",
    "    def _price_selector():\n",
    "#         print(\"Price selectior\")\n",
    "#         if next_price_index == previous_price_index or next_price_index == -1:\n",
    "#             # Maintain price if gurobi recommends the same price\n",
    "#             maintain.click()\n",
    "        if next_price_index > previous_price_index:\n",
    "            if next_price_index==1:\n",
    "                # 10% drop\n",
    "                drop_10.click()\n",
    "            elif next_price_index==2:\n",
    "                # 20% drop\n",
    "                drop_20.click()\n",
    "            if next_price_index==3:\n",
    "                # 40% drop\n",
    "                drop_40.click()                        \n",
    "        else:\n",
    "            # Maintain \n",
    "            maintain.click()\n",
    "            \n",
    "    # Starting to play the game for 15 weeks\n",
    "    for _ in range(15):\n",
    "        _retrieve_sales() # Get current sales and store in list\n",
    "        next_price_index = _gurobi_optimize() # Run gurobi optimization, Stores index of price to select\n",
    "        if next_price_index == None: # To catch None output from Gurobi's optimization\n",
    "            next_price_index = previous_price_index\n",
    "#         print(\"NP\", next_price_index)\n",
    "        _price_selector(); previous_price_index = next_price_index # Clicking and storing value for next run\n",
    "\n",
    "\n",
    "    # Storing Info\n",
    "    revenue = int(sub(r'[^\\d.]', '', browser.find_element_by_id(\"rev\").text))\n",
    "    perfect = int(sub(r'[^\\d.]', '', browser.find_element_by_id(\"perfect\").text))\n",
    "    score = (perfect - revenue)/perfect\n",
    "\n",
    "    results['revenue'].append(revenue)\n",
    "    results['perfect'].append(perfect)\n",
    "    results['score'].append(score)    \n",
    "for _ in range(50):\n",
    "    play_game()\n",
    "    print(\"_______\")\n",
    "print(results)"
   ]
  },
  {
   "cell_type": "code",
   "execution_count": 192,
   "metadata": {},
   "outputs": [
    {
     "data": {
      "text/html": [
       "<div>\n",
       "<style scoped>\n",
       "    .dataframe tbody tr th:only-of-type {\n",
       "        vertical-align: middle;\n",
       "    }\n",
       "\n",
       "    .dataframe tbody tr th {\n",
       "        vertical-align: top;\n",
       "    }\n",
       "\n",
       "    .dataframe thead th {\n",
       "        text-align: right;\n",
       "    }\n",
       "</style>\n",
       "<table border=\"1\" class=\"dataframe\">\n",
       "  <thead>\n",
       "    <tr style=\"text-align: right;\">\n",
       "      <th></th>\n",
       "      <th>revenue</th>\n",
       "      <th>perfect</th>\n",
       "      <th>score</th>\n",
       "    </tr>\n",
       "  </thead>\n",
       "  <tbody>\n",
       "    <tr>\n",
       "      <th>13</th>\n",
       "      <td>87696</td>\n",
       "      <td>88344</td>\n",
       "      <td>0.007335</td>\n",
       "    </tr>\n",
       "    <tr>\n",
       "      <th>46</th>\n",
       "      <td>81708</td>\n",
       "      <td>82584</td>\n",
       "      <td>0.010607</td>\n",
       "    </tr>\n",
       "    <tr>\n",
       "      <th>38</th>\n",
       "      <td>97404</td>\n",
       "      <td>98586</td>\n",
       "      <td>0.011990</td>\n",
       "    </tr>\n",
       "    <tr>\n",
       "      <th>33</th>\n",
       "      <td>88878</td>\n",
       "      <td>89976</td>\n",
       "      <td>0.012203</td>\n",
       "    </tr>\n",
       "    <tr>\n",
       "      <th>20</th>\n",
       "      <td>98286</td>\n",
       "      <td>99888</td>\n",
       "      <td>0.016038</td>\n",
       "    </tr>\n",
       "    <tr>\n",
       "      <th>37</th>\n",
       "      <td>83574</td>\n",
       "      <td>85248</td>\n",
       "      <td>0.019637</td>\n",
       "    </tr>\n",
       "    <tr>\n",
       "      <th>17</th>\n",
       "      <td>97494</td>\n",
       "      <td>100596</td>\n",
       "      <td>0.030836</td>\n",
       "    </tr>\n",
       "    <tr>\n",
       "      <th>16</th>\n",
       "      <td>94338</td>\n",
       "      <td>97662</td>\n",
       "      <td>0.034036</td>\n",
       "    </tr>\n",
       "    <tr>\n",
       "      <th>27</th>\n",
       "      <td>98556</td>\n",
       "      <td>102036</td>\n",
       "      <td>0.034106</td>\n",
       "    </tr>\n",
       "    <tr>\n",
       "      <th>45</th>\n",
       "      <td>98004</td>\n",
       "      <td>101964</td>\n",
       "      <td>0.038837</td>\n",
       "    </tr>\n",
       "    <tr>\n",
       "      <th>11</th>\n",
       "      <td>76074</td>\n",
       "      <td>79272</td>\n",
       "      <td>0.040342</td>\n",
       "    </tr>\n",
       "    <tr>\n",
       "      <th>22</th>\n",
       "      <td>108672</td>\n",
       "      <td>113604</td>\n",
       "      <td>0.043414</td>\n",
       "    </tr>\n",
       "    <tr>\n",
       "      <th>6</th>\n",
       "      <td>101466</td>\n",
       "      <td>106218</td>\n",
       "      <td>0.044738</td>\n",
       "    </tr>\n",
       "    <tr>\n",
       "      <th>4</th>\n",
       "      <td>72192</td>\n",
       "      <td>75732</td>\n",
       "      <td>0.046744</td>\n",
       "    </tr>\n",
       "    <tr>\n",
       "      <th>47</th>\n",
       "      <td>105108</td>\n",
       "      <td>110616</td>\n",
       "      <td>0.049794</td>\n",
       "    </tr>\n",
       "    <tr>\n",
       "      <th>28</th>\n",
       "      <td>100410</td>\n",
       "      <td>105690</td>\n",
       "      <td>0.049957</td>\n",
       "    </tr>\n",
       "    <tr>\n",
       "      <th>43</th>\n",
       "      <td>91242</td>\n",
       "      <td>96048</td>\n",
       "      <td>0.050037</td>\n",
       "    </tr>\n",
       "    <tr>\n",
       "      <th>21</th>\n",
       "      <td>108714</td>\n",
       "      <td>114534</td>\n",
       "      <td>0.050815</td>\n",
       "    </tr>\n",
       "    <tr>\n",
       "      <th>23</th>\n",
       "      <td>73656</td>\n",
       "      <td>78000</td>\n",
       "      <td>0.055692</td>\n",
       "    </tr>\n",
       "    <tr>\n",
       "      <th>19</th>\n",
       "      <td>108714</td>\n",
       "      <td>115194</td>\n",
       "      <td>0.056253</td>\n",
       "    </tr>\n",
       "    <tr>\n",
       "      <th>32</th>\n",
       "      <td>86346</td>\n",
       "      <td>91500</td>\n",
       "      <td>0.056328</td>\n",
       "    </tr>\n",
       "    <tr>\n",
       "      <th>25</th>\n",
       "      <td>101592</td>\n",
       "      <td>107670</td>\n",
       "      <td>0.056450</td>\n",
       "    </tr>\n",
       "    <tr>\n",
       "      <th>2</th>\n",
       "      <td>108768</td>\n",
       "      <td>115314</td>\n",
       "      <td>0.056767</td>\n",
       "    </tr>\n",
       "    <tr>\n",
       "      <th>35</th>\n",
       "      <td>108708</td>\n",
       "      <td>115614</td>\n",
       "      <td>0.059733</td>\n",
       "    </tr>\n",
       "    <tr>\n",
       "      <th>30</th>\n",
       "      <td>99000</td>\n",
       "      <td>105564</td>\n",
       "      <td>0.062180</td>\n",
       "    </tr>\n",
       "    <tr>\n",
       "      <th>3</th>\n",
       "      <td>98484</td>\n",
       "      <td>105084</td>\n",
       "      <td>0.062807</td>\n",
       "    </tr>\n",
       "    <tr>\n",
       "      <th>5</th>\n",
       "      <td>98712</td>\n",
       "      <td>105570</td>\n",
       "      <td>0.064962</td>\n",
       "    </tr>\n",
       "    <tr>\n",
       "      <th>34</th>\n",
       "      <td>102378</td>\n",
       "      <td>109548</td>\n",
       "      <td>0.065451</td>\n",
       "    </tr>\n",
       "    <tr>\n",
       "      <th>31</th>\n",
       "      <td>12108</td>\n",
       "      <td>12996</td>\n",
       "      <td>0.068329</td>\n",
       "    </tr>\n",
       "    <tr>\n",
       "      <th>39</th>\n",
       "      <td>101598</td>\n",
       "      <td>109200</td>\n",
       "      <td>0.069615</td>\n",
       "    </tr>\n",
       "    <tr>\n",
       "      <th>15</th>\n",
       "      <td>100356</td>\n",
       "      <td>108270</td>\n",
       "      <td>0.073095</td>\n",
       "    </tr>\n",
       "    <tr>\n",
       "      <th>24</th>\n",
       "      <td>98694</td>\n",
       "      <td>106560</td>\n",
       "      <td>0.073818</td>\n",
       "    </tr>\n",
       "    <tr>\n",
       "      <th>7</th>\n",
       "      <td>98562</td>\n",
       "      <td>106446</td>\n",
       "      <td>0.074066</td>\n",
       "    </tr>\n",
       "    <tr>\n",
       "      <th>8</th>\n",
       "      <td>103338</td>\n",
       "      <td>112182</td>\n",
       "      <td>0.078836</td>\n",
       "    </tr>\n",
       "    <tr>\n",
       "      <th>10</th>\n",
       "      <td>68016</td>\n",
       "      <td>73860</td>\n",
       "      <td>0.079123</td>\n",
       "    </tr>\n",
       "    <tr>\n",
       "      <th>12</th>\n",
       "      <td>103296</td>\n",
       "      <td>112230</td>\n",
       "      <td>0.079604</td>\n",
       "    </tr>\n",
       "    <tr>\n",
       "      <th>29</th>\n",
       "      <td>67614</td>\n",
       "      <td>73512</td>\n",
       "      <td>0.080232</td>\n",
       "    </tr>\n",
       "    <tr>\n",
       "      <th>48</th>\n",
       "      <td>108660</td>\n",
       "      <td>118710</td>\n",
       "      <td>0.084660</td>\n",
       "    </tr>\n",
       "    <tr>\n",
       "      <th>9</th>\n",
       "      <td>109794</td>\n",
       "      <td>120000</td>\n",
       "      <td>0.085050</td>\n",
       "    </tr>\n",
       "    <tr>\n",
       "      <th>42</th>\n",
       "      <td>89412</td>\n",
       "      <td>97752</td>\n",
       "      <td>0.085318</td>\n",
       "    </tr>\n",
       "    <tr>\n",
       "      <th>49</th>\n",
       "      <td>100620</td>\n",
       "      <td>110262</td>\n",
       "      <td>0.087446</td>\n",
       "    </tr>\n",
       "    <tr>\n",
       "      <th>36</th>\n",
       "      <td>108948</td>\n",
       "      <td>120000</td>\n",
       "      <td>0.092100</td>\n",
       "    </tr>\n",
       "    <tr>\n",
       "      <th>41</th>\n",
       "      <td>108846</td>\n",
       "      <td>120000</td>\n",
       "      <td>0.092950</td>\n",
       "    </tr>\n",
       "    <tr>\n",
       "      <th>0</th>\n",
       "      <td>108822</td>\n",
       "      <td>120000</td>\n",
       "      <td>0.093150</td>\n",
       "    </tr>\n",
       "    <tr>\n",
       "      <th>18</th>\n",
       "      <td>108780</td>\n",
       "      <td>120000</td>\n",
       "      <td>0.093500</td>\n",
       "    </tr>\n",
       "    <tr>\n",
       "      <th>1</th>\n",
       "      <td>63438</td>\n",
       "      <td>70056</td>\n",
       "      <td>0.094467</td>\n",
       "    </tr>\n",
       "    <tr>\n",
       "      <th>14</th>\n",
       "      <td>99582</td>\n",
       "      <td>110790</td>\n",
       "      <td>0.101164</td>\n",
       "    </tr>\n",
       "    <tr>\n",
       "      <th>40</th>\n",
       "      <td>101544</td>\n",
       "      <td>113904</td>\n",
       "      <td>0.108512</td>\n",
       "    </tr>\n",
       "    <tr>\n",
       "      <th>44</th>\n",
       "      <td>87804</td>\n",
       "      <td>98556</td>\n",
       "      <td>0.109095</td>\n",
       "    </tr>\n",
       "    <tr>\n",
       "      <th>26</th>\n",
       "      <td>102540</td>\n",
       "      <td>117738</td>\n",
       "      <td>0.129083</td>\n",
       "    </tr>\n",
       "  </tbody>\n",
       "</table>\n",
       "</div>"
      ],
      "text/plain": [
       "    revenue  perfect     score\n",
       "13    87696    88344  0.007335\n",
       "46    81708    82584  0.010607\n",
       "38    97404    98586  0.011990\n",
       "33    88878    89976  0.012203\n",
       "20    98286    99888  0.016038\n",
       "37    83574    85248  0.019637\n",
       "17    97494   100596  0.030836\n",
       "16    94338    97662  0.034036\n",
       "27    98556   102036  0.034106\n",
       "45    98004   101964  0.038837\n",
       "11    76074    79272  0.040342\n",
       "22   108672   113604  0.043414\n",
       "6    101466   106218  0.044738\n",
       "4     72192    75732  0.046744\n",
       "47   105108   110616  0.049794\n",
       "28   100410   105690  0.049957\n",
       "43    91242    96048  0.050037\n",
       "21   108714   114534  0.050815\n",
       "23    73656    78000  0.055692\n",
       "19   108714   115194  0.056253\n",
       "32    86346    91500  0.056328\n",
       "25   101592   107670  0.056450\n",
       "2    108768   115314  0.056767\n",
       "35   108708   115614  0.059733\n",
       "30    99000   105564  0.062180\n",
       "3     98484   105084  0.062807\n",
       "5     98712   105570  0.064962\n",
       "34   102378   109548  0.065451\n",
       "31    12108    12996  0.068329\n",
       "39   101598   109200  0.069615\n",
       "15   100356   108270  0.073095\n",
       "24    98694   106560  0.073818\n",
       "7     98562   106446  0.074066\n",
       "8    103338   112182  0.078836\n",
       "10    68016    73860  0.079123\n",
       "12   103296   112230  0.079604\n",
       "29    67614    73512  0.080232\n",
       "48   108660   118710  0.084660\n",
       "9    109794   120000  0.085050\n",
       "42    89412    97752  0.085318\n",
       "49   100620   110262  0.087446\n",
       "36   108948   120000  0.092100\n",
       "41   108846   120000  0.092950\n",
       "0    108822   120000  0.093150\n",
       "18   108780   120000  0.093500\n",
       "1     63438    70056  0.094467\n",
       "14    99582   110790  0.101164\n",
       "40   101544   113904  0.108512\n",
       "44    87804    98556  0.109095\n",
       "26   102540   117738  0.129083"
      ]
     },
     "execution_count": 192,
     "metadata": {},
     "output_type": "execute_result"
    }
   ],
   "source": [
    "pd.DataFrame(results).sort_values('score')"
   ]
  },
  {
   "cell_type": "code",
   "execution_count": 190,
   "metadata": {},
   "outputs": [
    {
     "name": "stdout",
     "output_type": "stream",
     "text": [
      "Runs: 50\n",
      "Average Differences: 0.06, Standard Deviation: 0.028186903830296615\n",
      "95% CI: (0.05441544081213559, 0.07043669966054975)\n"
     ]
    }
   ],
   "source": [
    "print(f\"Runs: {len(results['score'])}\")\n",
    "print(f\"Average Differences: {np.mean(results['score']):.2f}, Standard Deviation: {np.std(results['score'], ddof=1)}\")\n",
    "print(f\"95% CI: {sms.DescrStatsW(results['score']).tconfint_mean(alpha=0.05)}\")"
   ]
  },
  {
   "cell_type": "code",
   "execution_count": 38,
   "metadata": {},
   "outputs": [],
   "source": [
    "####\n",
    "# from selenium import webdriver\n",
    "# import statsmodels.stats.api as sms\n",
    "# import warnings\n",
    "# warnings.filterwarnings(\"ignore\", category=DeprecationWarning) \n",
    "\n",
    "# browser=webdriver.Chrome(executable_path=r'C:\\Users\\Uzair\\Desktop\\chromedriver.exe')\n",
    "# browser.get(\"http://www.randhawa.us/games/retailer/nyu.html\")\n",
    "\n",
    "# # Getting the push buttons\n",
    "# maintain = browser.find_element_by_id(\"maintainButton\")\n",
    "# dc_10 = browser.find_element_by_id(\"tenButton\")\n",
    "# dc_20 = browser.find_element_by_id(\"twentyButton\")\n",
    "# dc_40 = browser.find_element_by_id(\"fortyButton\")\n",
    "# restart = browser.find_element_by_class_name(\"button\")\n",
    "\n",
    "# scores = []\n",
    "\n",
    "\n",
    "# thresholds = [[0.452363091, 0.31, 0.035],\n",
    "#              [0.549887472, 0.42, 0.07],\n",
    "#              [0.737434359, 0.62, 0.15]]\n",
    "\n",
    "# accumulated = [133.3, 266.6, 399.9, 533.2, 666.5, 799.8, 933.1, 1066.4,\t1199.7, 1333, 1466.3, 1599.6, 1732.9, 1866.2, 2000]\n",
    "\n",
    "# for i in range(5):\n",
    "#     difference = []\n",
    "#     percent_diff = []\n",
    "#     NEWVAR = 0\n",
    "#     trigger_10 = 0\n",
    "#     trigger_20 = 0\n",
    "#     trigger_40 = 0\n",
    "#     flag = 0\n",
    "#     for i in range(6):\n",
    "#         for tr in browser.find_elements_by_xpath('//table[@id=\"result-table\"]//tr'):\n",
    "#             lds = tr.find_elements_by_tag_name('td')\n",
    "#         sales = int(lds[-2].text)\n",
    "#         NEWVAR += sales\n",
    "#         difference.append(accumulated[i]-NEWVAR)\n",
    "#         percent_diff.append(difference[i]/accumulated[i])\n",
    "#         if percent_diff[i] > thresholds[2][0]:\n",
    "#             dc_40.click()\n",
    "#             trigger_40 = 1\n",
    "#             break\n",
    "#         elif percent_diff[i] > thresholds[1][0]:\n",
    "#             if trigger_20 >= 1:\n",
    "#                 maintain.click()\n",
    "#             else:\n",
    "#                 dc_20.click()\n",
    "#                 trigger_20 += 1\n",
    "#         elif percent_diff[i] > thresholds[0][0]:\n",
    "#             if trigger_20 >= 1 and trigger_10 >= 1:\n",
    "#                 maintain.click()\n",
    "#             elif trigger_20 >= 1:\n",
    "#                 maintain.click()\n",
    "#             elif flag == 1:\n",
    "#                 dc_20.click()\n",
    "#                 flag = 0\n",
    "#             elif trigger_10 >= 1:\n",
    "#                 maintain.click()\n",
    "#             else:\n",
    "#                 dc_10.click()\n",
    "#                 trigger_10 += 1\n",
    "#                 flag = 1\n",
    "#         else:\n",
    "#             maintain.click()\n",
    "#         flag = 0\n",
    "#     for i in range(5):\n",
    "#         if trigger_40 == 1:\n",
    "#             break\n",
    "#         for xr in browser.find_elements_by_xpath('//table[@id=\"result-table\"]//tr'):\n",
    "#             tds = xr.find_elements_by_tag_name('td')\n",
    "#         sales = int(tds[-2].text)\n",
    "#         NEWVAR += sales\n",
    "#         difference.append(accumulated[6+i]-NEWVAR)\n",
    "#         percent_diff.append(difference[6+i]/accumulated[6+i])\n",
    "#         if percent_diff[6+i] > thresholds[2][1]:\n",
    "#             dc_40.click()\n",
    "#             trigger_40 = 1\n",
    "#             break\n",
    "#         elif percent_diff[6+i] > thresholds[1][1]:\n",
    "#             if trigger_20 >= 1:\n",
    "#                 maintain.click()\n",
    "#             else:\n",
    "#                 dc_20.click()\n",
    "#                 trigger_20 += 1\n",
    "#         elif percent_diff[6+i] > thresholds[0][1]:\n",
    "#             if trigger_20 >= 1 and trigger_10 >= 1:\n",
    "#                 maintain.click()\n",
    "#             elif trigger_20 >= 1:\n",
    "#                 maintain.click()\n",
    "#             elif flag == 1:\n",
    "#                 dc_20.click()\n",
    "#                 flag = 0\n",
    "#             elif trigger_10 >= 1:\n",
    "#                 maintain.click()\n",
    "#             else:\n",
    "#                 dc_10.click()\n",
    "#                 trigger_10 += 1\n",
    "#                 flag = 1\n",
    "#         else:\n",
    "#             maintain.click()\n",
    "#         flag = 0\n",
    "#     for i in range(3):\n",
    "#         if trigger_40 == 1:\n",
    "#             break\n",
    "#         for gr in browser.find_elements_by_xpath('//table[@id=\"result-table\"]//tr'):\n",
    "#             xds = gr.find_elements_by_tag_name('td')\n",
    "#         sales = int(xds[-2].text)\n",
    "#         NEWVAR += sales\n",
    "#         difference.append(accumulated[11+i]-NEWVAR)\n",
    "#         percent_diff.append(difference[11+i]/accumulated[11+i])\n",
    "#         if percent_diff[11+i] > thresholds[2][2]:\n",
    "#             dc_40.click()\n",
    "#         elif percent_diff[11+i] > thresholds[1][2]:\n",
    "#             if trigger_20 >= 1:\n",
    "#                 maintain.click()\n",
    "#             else:\n",
    "#                 dc_20.click()\n",
    "#                 trigger_20 += 1\n",
    "#         elif percent_diff[11+i] > thresholds[0][2]:\n",
    "#             if trigger_20 >= 1 and trigger_10 >= 1:\n",
    "#                 maintain.click()\n",
    "#             elif trigger_20 >= 1:\n",
    "#                 maintain.click()\n",
    "#             elif flag == 1:\n",
    "#                 dc_20.click()\n",
    "#                 flag = 0\n",
    "#             elif trigger_10 >= 1:\n",
    "#                 maintain.click()\n",
    "#             else:\n",
    "#                 dc_10.click()\n",
    "#                 trigger_10 += 1\n",
    "#                 flag = 1\n",
    "#         else:\n",
    "#             maintain.click()\n",
    "#         flag = 0\n",
    "#     revenue = int(sub(r'[^\\d.]', '', browser.find_element_by_id(\"rev\").text))\n",
    "#     perfect = int(sub(r'[^\\d.]', '', browser.find_element_by_id(\"perfect\").text))\n",
    "#     scores.append(1 - revenue/perfect)\n",
    "#     restart.click()\n",
    "\n",
    "\n",
    "# print(f\"Average Differences: {np.mean(scores):.2f}, Standard Deviation: {np.std(scores, ddof=1)}\")\n",
    "# print(f\"95% CI: {sms.DescrStatsW(scores).tconfint_mean(alpha=0.05)}\")"
   ]
  },
  {
   "cell_type": "markdown",
   "metadata": {},
   "source": [
    "## Dynamic Approach (Ignorant of Previous Sales Data)"
   ]
  },
  {
   "cell_type": "code",
   "execution_count": 208,
   "metadata": {
    "scrolled": false
   },
   "outputs": [
    {
     "name": "stderr",
     "output_type": "stream",
     "text": [
      "E:\\AnacondaInstallation\\lib\\site-packages\\numpy\\core\\fromnumeric.py:3419: RuntimeWarning: Mean of empty slice.\n",
      "  return _methods._mean(a, axis=axis, dtype=dtype,\n",
      "E:\\AnacondaInstallation\\lib\\site-packages\\numpy\\core\\_methods.py:188: RuntimeWarning: invalid value encountered in double_scalars\n",
      "  ret = ret.dtype.type(ret / rcount)\n"
     ]
    },
    {
     "name": "stdout",
     "output_type": "stream",
     "text": [
      "[0.18202686617922123, 0.11905301314000906, 0.1124473509199734, 0.10605700712589074, 0.09134303730331782, 0.03336434932872524, 0.14456366615571647, 0.1773238602723505, 0.1207, 0.11689952437574316, 0.1282, 0.13074318877962277, 0.13220081135902637, 0.15900047747891136, 0.09369627507163324, 0.068820611738771, 0.13834731050691737, 0.12565, 0.060030257186081695, 0.20369818073367135, 0.17181069958847736, 0.11346237970253718, 0.12623900211604855, 0.1832233134760908, 0.09283851078966089, 0.13553727668046314, 0.14401784291859168, 0.1259893048128342, 0.13155063777470416, 0.10710432165369982, 0.12467011506386573, 0.14480615254951537, 0.11620123991880178, 0.10098416773641421, 0.2092751363990647, 0.1661807580174927, 0.11575, 0.11138192948645279, 0.1112813218076376, 0.10292460105594116, 0.07995043662969081, 0.08785757592459902, 0.06840259039395574, 0.1730901582931865, 0.12737270660392322, 0.11060537096040055, 0.09147346445445556, 0.12000891017430529, 0.11242706106649719, 0.13078492429936647]\n"
     ]
    }
   ],
   "source": [
    "from selenium import webdriver\n",
    "import statsmodels.stats.api as sms\n",
    "import warnings\n",
    "warnings.filterwarnings(\"ignore\", category=DeprecationWarning) \n",
    "\n",
    "browser=webdriver.Chrome(executable_path=r'C:\\Users\\Uzair\\Desktop\\chromedriver.exe')\n",
    "browser.get(\"http://www.randhawa.us/games/retailer/nyu.html\")\n",
    "\n",
    "# Getting the push buttons\n",
    "maintain = browser.find_element_by_id(\"maintainButton\")\n",
    "drop_10 = browser.find_element_by_id(\"tenButton\")\n",
    "drop_20 = browser.find_element_by_id(\"twentyButton\")\n",
    "drop_40 = browser.find_element_by_id(\"fortyButton\")\n",
    "restart = browser.find_element_by_class_name(\"button\")\n",
    "\n",
    "# Master dictionary to scores summaries from gameplay\n",
    "results = {\"revenue\": [], \"perfect\": [], \"score\": []}\n",
    "\n",
    "# How many games we wanna play\n",
    "n_games = 50\n",
    "for _ in range(n_games):\n",
    "    restart.click() # New Game\n",
    "    sales = []\n",
    "    price = []\n",
    "    slopes = []\n",
    "    actions = ['drop_10.click()', 'drop_20.click()', 'drop_40.click()']\n",
    "    # restart.click()\n",
    "\n",
    "    def refresh_data():\n",
    "        for tr in browser.find_elements_by_xpath('//table[@id=\"result-table\"]//tr'):\n",
    "            lds = tr.find_elements_by_tag_name('td')\n",
    "        sales.append(int(lds[2].text))\n",
    "        price.append(int(lds[1].text))\n",
    "\n",
    "    # Maintain for x-times (maintain price)\n",
    "    init_maintain = 3\n",
    "    def maintain_click(maintain_times=3):\n",
    "        for _ in range(maintain_times):\n",
    "            maintain.click()\n",
    "            refresh_data()\n",
    "\n",
    "        slope = np.mean([sales[idx]-sales[idx-1] for idx in range(maintain_times-1, 0, -1)])\n",
    "        exp_sales = sum(sales) + slope * (15-len(sales))\n",
    "        exp_sales_diff = 2000 - exp_sales\n",
    "    \n",
    "    maintain_click(init_maintain) # Maintain price for x times\n",
    "\n",
    "    for _ in range(15-maintain_times):\n",
    "        slope = (sales[-1] - sales[-2]) / len(sales)\n",
    "        exp_sales = sum(sales) + slope * (15-len(sales))\n",
    "        exp_sales_diff = 2000 - exp_sales\n",
    "#         print(exp_sales_diff, slope)\n",
    "\n",
    "        if exp_sales_diff < 120: # 2 Standard Deviations Threshold\n",
    "    #     if (sales[-1] - sales[-2])/sales[-2] < 0.10: # Do this as percentage\n",
    "            maintain.click()\n",
    "        else:\n",
    "            try:\n",
    "                exec(actions[0])\n",
    "                actions.pop(0)\n",
    "                refresh_data()\n",
    "                maintain_click(2)\n",
    "            except:\n",
    "                maintain_click(1)\n",
    "\n",
    "    \n",
    "    # Storing Info\n",
    "    revenue = int(sub(r'[^\\d.]', '', browser.find_element_by_id(\"rev\").text))\n",
    "    perfect = int(sub(r'[^\\d.]', '', browser.find_element_by_id(\"perfect\").text))\n",
    "    score = (perfect - revenue)/perfect\n",
    "\n",
    "    results['revenue'].append(revenue)\n",
    "    results['perfect'].append(perfect)\n",
    "    results['score'].append(score)    \n",
    "\n",
    "print(results['score'])"
   ]
  },
  {
   "cell_type": "code",
   "execution_count": 209,
   "metadata": {},
   "outputs": [
    {
     "name": "stdout",
     "output_type": "stream",
     "text": [
      "Runs: 50\n",
      "Average Differences: 0.12, Standard Deviation: 0.03536426904075074\n",
      "95% CI: (0.11357693991500227, 0.133677768005168)\n"
     ]
    }
   ],
   "source": [
    "print(f\"Runs: {len(results['score'])}\")\n",
    "print(f\"Average Differences: {np.mean(results['score']):.2f}, Standard Deviation: {np.std(results['score'], ddof=1)}\")\n",
    "print(f\"95% CI: {sms.DescrStatsW(results['score']).tconfint_mean(alpha=0.05)}\")"
   ]
  },
  {
   "cell_type": "markdown",
   "metadata": {
    "id": "tXw96zaJ4ymx"
   },
   "source": [
    "# Conclusion\n",
    "\n",
    "We have tried 3 different strategies (and a human simulation) and tested our markdown strategy runs for 50 games each. Our best strategy is the one where the sales are estimated using **Linear Regression** & modelled as an optimization problem. "
   ]
  }
 ],
 "metadata": {
  "colab": {
   "collapsed_sections": [],
   "name": "markdown_strategy_linear_optimization_v2.ipynb",
   "provenance": [],
   "toc_visible": true
  },
  "kernelspec": {
   "display_name": "Python 3 (ipykernel)",
   "language": "python",
   "name": "python3"
  },
  "language_info": {
   "codemirror_mode": {
    "name": "ipython",
    "version": 3
   },
   "file_extension": ".py",
   "mimetype": "text/x-python",
   "name": "python",
   "nbconvert_exporter": "python",
   "pygments_lexer": "ipython3",
   "version": "3.9.7"
  },
  "toc": {
   "base_numbering": 1,
   "nav_menu": {},
   "number_sections": true,
   "sideBar": true,
   "skip_h1_title": false,
   "title_cell": "Table of Contents",
   "title_sidebar": "Contents",
   "toc_cell": false,
   "toc_position": {
    "height": "calc(100% - 180px)",
    "left": "10px",
    "top": "150px",
    "width": "512.009px"
   },
   "toc_section_display": true,
   "toc_window_display": false
  }
 },
 "nbformat": 4,
 "nbformat_minor": 1
}
